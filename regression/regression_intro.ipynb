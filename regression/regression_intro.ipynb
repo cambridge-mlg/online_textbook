{
 "cells": [
  {
   "cell_type": "markdown",
   "metadata": {},
   "source": [
    "# Regression\n",
    "\n",
    "Regression is a class of supervised machine learning tasks in which the aim is to predict a **real valued output** \\\\(y^\\star\\\\) at an **input** location \\\\(x^\\star\\\\) using a **training set of input-output pairs** \\\\(\\{x_n, y_n\\}_{n=1}^N\\\\) pairs. \n",
    "\n",
    "\n",
    "_Regression Jargon_: The inputs **x** are also known as the features, covariates, or independent variables.\n",
    "The outputs **y** are also known as the responses, targets, or dependent variables. \n",
    "\n",
    "[//]: # (The line above might be better as a margin comment)\n",
    "\n",
    "Here's a cartoon regression task. Often the full solution to a regression task involves returning to the user a best guess for $y^\\star$ along with a measure of uncertainty, the latter being important for decision making. \n",
    "\n",
    "<div class=\"row\">\n",
    "  <div class=\"column\">\n",
    "    <img src=\"intro-regression.svg\" alt=\"Snow\" style=\"width:80%; float: center; padding: 0px; padding : 20px\">\n",
    "  </div>\n",
    "</div>\n",
    "\n",
    "Regression encompasses many different types of input e.g. they can be scalar or multi-dimensional; real valued or discrete. Regression problems lie on a sliding scale from those that involve **interpolation** (the required predictions are typically close to the training data) to **extrapolation** (the required predictions are typically far from the training data). \n",
    "\n",
    "Example regression problems include:\n",
    "\n",
    "[//]: # (The alignment in this table is not working. Also good to add images demonstrating these applications)\n",
    "\n",
    "|  Application | Inputs | Outputs | \n",
    "| :---: | :---: | :---: | :---: |\n",
    "| computer aided drug design | representation of molecule | biological activity of molecule |  \n",
    "| solar power supply forecasting | time, physical models, satellite images | solar power supply |  \n",
    "| informing health care policy | health care center characteristics | patient treatment outcomes |\n",
    "| image super resolution | low resolution image | high resolution image |\n",
    "| system identification | system's state at time t-1 | system's state at time t |\n",
    "\n",
    "The last two examples above are **multi-output regression problems** which involve predicting a vector of real valued outputs, rather than just a single scalar output. \n",
    "\n",
    "In regression, the predictions themselves may not always be the central focus. For example, in the 'informing health care policy' example, the goal is to assess the contribution from different input variables (health centre funding level, availability of treatments, population demographic etc.) on the treatment outcome. \n",
    "\n",
    "Regression also serves as a good introduction to several cross-cutting concepts in inference and machine learning including *generative models*, *maximum likelihood estimation*, *overfitting* and *probabilistic inference*. \n",
    "\n",
    "## Outline of this section\n",
    "\n",
    "1. [Linear regression](regression_linear.ipynb) \n",
    "\n",
    "  Linear regression, least squares and maximum likelihood fitting <br><br>\n",
    "   \n",
    "2. [Non-linear regression](regression_non_linear.ipynb)\n",
    "\n",
    "  Non-linear regression using basis functions <br><br>\n",
    "  \n",
    "3. [Overfitting in non-linear regression](regression_overfitting.ipynb)\n",
    "\n",
    "  What is overfitting, diagnosis using validation sets <br><br>\n",
    "\n",
    "4. [Regularised non-linear regression](regression_regularisation.ipynb)\n",
    "\n",
    "  Using regularisation to mitigate overfitting, interpretations of regularisation as MAP inference <br><br>\n",
    "\n",
    "5. [Bayesian non-linear regression](regression_bayesian.ipynb)\n",
    "\n",
    "  Bayesian approaches to regression that return uncertainty in the parameter estimates <br><br>\n",
    "\n",
    "6. [Visualising Bayesian non-linear regression: Online learning](regression_bayesian-online-visualisations.ipynb)\n",
    "\n",
    "  Visualising how the posterior distribution evolves as data arrive <br><br>\n",
    "\n",
    "\n",
    "\n",
    " \n",
    "\n"
   ]
  },
  {
   "cell_type": "code",
   "execution_count": 1,
   "metadata": {
    "hide_input": true
   },
   "outputs": [
    {
     "data": {
      "text/html": [
       "\n",
       "    <style>\n",
       "    .output {\n",
       "        font-family: \"Georgia\", serif;\n",
       "        align-items: normal;\n",
       "        text-align: normal;\n",
       "    }\n",
       "    \n",
       "    div.output_svg div { margin : auto; }\n",
       "\n",
       "    .div.output_area.MathJax_Display{ text-align: center; }\n",
       "\n",
       "    div.text_cell_render { font-family: \"Georgia\", serif; }\n",
       "    \n",
       "    details {\n",
       "        margin: 20px 0px;\n",
       "        padding: 0px 10px;\n",
       "        border-radius: 3px;\n",
       "        border-style: solid;\n",
       "        border-color: black;\n",
       "        border-width: 2px;\n",
       "    }\n",
       "\n",
       "    details div{padding: 20px 30px;}\n",
       "\n",
       "    details summary{font-size: 18px;}\n",
       "    \n",
       "    table { margin: auto !important; }\n",
       "    \n",
       "    </style>\n",
       "    "
      ],
      "text/plain": [
       "<IPython.core.display.HTML object>"
      ]
     },
     "metadata": {},
     "output_type": "display_data"
    }
   ],
   "source": [
    "import sys\n",
    "sys.path.append('..')\n",
    "from helper_functions import *\n",
    "set_notebook_preferences()"
   ]
  }
 ],
 "metadata": {
  "kernelspec": {
   "display_name": "Python 3",
   "language": "python",
   "name": "python3"
  },
  "language_info": {
   "codemirror_mode": {
    "name": "ipython",
    "version": 3
   },
   "file_extension": ".py",
   "mimetype": "text/x-python",
   "name": "python",
   "nbconvert_exporter": "python",
   "pygments_lexer": "ipython3",
   "version": "3.6.5"
  }
 },
 "nbformat": 4,
 "nbformat_minor": 2
}
