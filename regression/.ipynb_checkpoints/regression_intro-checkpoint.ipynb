{
 "cells": [
  {
   "cell_type": "markdown",
   "metadata": {},
   "source": [
    "# 2. Regression\n",
    "\n",
    "In the previous section we used the method ```stats.linregress``` to perform least squares regression quite liberally and without explaining what the function does under the hood. We also deferred questions like our definition of error and lack of error bars. In this section we will look at regression in detail to address these issues. The term regression describes a broad class of problems where the aim is to predict a **continuous output** \\\\(y^\\star\\\\) given its input \\\\(x^\\star\\\\), and a set of example \\\\(\\{x_n, y_n\\}\\\\) pairs. Such problems amount to finding a function \\\\(y = f(x)\\\\) which describes the data sufficiently well,  allowing us to make future predictions \\\\(y^\\star = f(x^\\star)\\\\).\n",
    "\n",
    "Many real tasks such as temperature forecasts, sales and stock price predictions are regression problems making regression methods relevant and very applicable. More importantly, regression serves as a good introduction to several recurrent concepts in inference and machine learning like *generative models*, *maximum likelihood approaches*, *overfitting* and *bayesian inference*. It is highly recommended that you take time to grasp the concepts in this section well \\\\(-\\\\) it will pay off later."
   ]
  },
  {
   "cell_type": "code",
   "execution_count": 4,
   "metadata": {
    "hide_input": true
   },
   "outputs": [
    {
     "data": {
      "text/html": [
       "\n",
       "    <style>\n",
       "    .output {\n",
       "        font-family: \"Georgia\", serif;\n",
       "        align-items: normal;\n",
       "        text-align: normal;\n",
       "    }\n",
       "    \n",
       "    div.output_svg div { margin : auto; }\n",
       "\n",
       "    .div.output_area.MathJax_Display{ text-align: center; }\n",
       "\n",
       "    div.text_cell_render { font-family: \"Georgia\", serif; }\n",
       "    \n",
       "    details {\n",
       "        margin: 20px 0px;\n",
       "        padding: 0px 10px;\n",
       "        border-radius: 3px;\n",
       "        border-style: solid;\n",
       "        border-color: black;\n",
       "        border-width: 2px;\n",
       "    }\n",
       "\n",
       "    details div{padding: 20px 30px;}\n",
       "\n",
       "    details summary{font-size: 18px;}\n",
       "    \n",
       "    table { margin: auto !important; }\n",
       "    \n",
       "    </style>\n",
       "    "
      ],
      "text/plain": [
       "<IPython.core.display.HTML object>"
      ]
     },
     "metadata": {},
     "output_type": "display_data"
    }
   ],
   "source": [
    "import sys\n",
    "sys.path.append('..')\n",
    "from helper_functions import *\n",
    "set_notebook_preferences()"
   ]
  }
 ],
 "metadata": {
  "kernelspec": {
   "display_name": "Python 3",
   "language": "python",
   "name": "python3"
  },
  "language_info": {
   "codemirror_mode": {
    "name": "ipython",
    "version": 3
   },
   "file_extension": ".py",
   "mimetype": "text/x-python",
   "name": "python",
   "nbconvert_exporter": "python",
   "pygments_lexer": "ipython3",
   "version": "3.7.0"
  }
 },
 "nbformat": 4,
 "nbformat_minor": 2
}
