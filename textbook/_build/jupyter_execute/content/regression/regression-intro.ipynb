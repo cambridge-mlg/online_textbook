{
 "cells": [
  {
   "cell_type": "markdown",
   "metadata": {},
   "source": [
    "# Regression \n",
    "\n",
    "Regression is a class of supervised machine learning tasks in which the aim is to predict a **real valued output** $y^\\star$, given an input vector $\\mathbf{x}^\\star$ using a **training set of input-output pairs** $\\{\\mathbf{x}_n, y_n\\}_{n=1}^N$. Each vector $\\mathbf{x}_n$ represents a point in some $D$-dimensional space, where $D$ is the number of input parameters being measured.\n",
    "\n",
    "````{margin}\n",
    "Regression Jargon: The inputs $\\mathbf{x}_n$ are also known as the features, covariates, or independent variables.\n",
    "The outputs $y_n$ are also known as the responses, targets, or dependent variables. \n",
    "````\n",
    "\n",
    "[//]: # (The line above might be better as a margin comment)\n",
    "\n",
    "Here's a cartoon regression task for a one-dimensional dataset, i.e. each $\\mathbf{x}_n$ is a one-dimensional vector, or just a scalar value. Often the full solution to a regression task involves returning to the user a best guess for $y^\\star$ along with a measure of uncertainty, the latter being important for decision making. \n",
    "\n",
    "![](./imgs/intro-regression.png)\n",
    "\n",
    "Regression encompasses many different types of input e.g. they can be scalar or multi-dimensional; real valued or discrete. Regression problems lie on a sliding scale from those that involve **interpolation** (the required predictions are typically close to the training data) to **extrapolation** (the required predictions are typically far from the training data). Example regression problems include:\n",
    "\n",
    "|Application|Inputs|Outputs| \n",
    "|:-:|:-:|:-:|\n",
    "|computer aided drug design|representation of molecule| biological activity of molecule|  \n",
    "|solar power supply forecasting| time, physical models, satellite images | solar power supply|  \n",
    "|informing health care policy| health care center characteristics|patient treatment outcomes|\n",
    "|image super resolution|low resolution image|high resolution image|\n",
    "|system identification|system's state at time \\\\(t-1\\\\)|system's state at time \\\\(t\\\\)|\n",
    "\n",
    "\n",
    "The last two examples above are **multi-output regression problems** which involve predicting a vector of real valued outputs, rather than just a single scalar output.\n",
    "\n",
    "In regression, the predictions themselves may not always be the central focus. For example, in the 'informing health care policy' example, the goal is to assess the contribution from different input variables (health centre funding level, availability of treatments, population demographic etc.) on the treatment outcome. \n",
    "\n",
    "Regression also serves as a good introduction to several cross-cutting concepts in inference and machine learning including *generative models*, *maximum likelihood estimation*, *overfitting* and *probabilistic inference*. \n",
    "\n",
    "## Outline of subsequent sections\n",
    "\n",
    "1. [Linear regression](regression-linear.ipynb): Linear regression, least squares and maximum likelihood fitting\n",
    "2. [Non-linear regression](regression_non_linear.ipynb): Non-linear regression using basis functions\n",
    "3. [Overfitting in non-linear regression](regression_overfitting.ipynb): What is overfitting, diagnosis using validation sets\n",
    "4. [Regularised non-linear regression](regression_regularisation.ipynb): Using regularisation to mitigate overfitting, interpretations of regularisation as MAP inference\n",
    "5. [Bayesian non-linear regression](regression_bayesian.ipynb): Bayesian approaches to regression that return uncertainty in the parameter estimates\n",
    "6. [Visualising Bayesian linear regression: Online learning](regression_bayesian-online-visualisations.ipynb): Visualising how the posterior distribution evolves as data arrive"
   ]
  },
  {
   "cell_type": "code",
   "execution_count": null,
   "metadata": {},
   "outputs": [],
   "source": []
  },
  {
   "cell_type": "markdown",
   "id": "accessory-continent",
   "metadata": {},
   "source": [
    "\n",
    "```{toctree}\n",
    ":hidden:\n",
    ":titlesonly:\n",
    "\n",
    "\n",
    "regression-linear\n",
    "regression-nonlinear\n",
    "Overfitting <regression-overfitting>\n",
    "```\n"
   ]
  }
 ],
 "metadata": {
  "kernelspec": {
   "display_name": "Python 3",
   "language": "python",
   "name": "python3"
  },
  "language_info": {
   "codemirror_mode": {
    "name": "ipython",
    "version": 3
   },
   "file_extension": ".py",
   "mimetype": "text/x-python",
   "name": "python",
   "nbconvert_exporter": "python",
   "pygments_lexer": "ipython3",
   "version": "3.7.3"
  },
  "toc-showtags": true
 },
 "nbformat": 4,
 "nbformat_minor": 4
}