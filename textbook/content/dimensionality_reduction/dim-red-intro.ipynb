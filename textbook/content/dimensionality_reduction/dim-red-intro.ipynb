{
 "cells": [
  {
   "cell_type": "markdown",
   "metadata": {},
   "source": [
    "# Dimensionality Reduction"
   ]
  },
  {
   "cell_type": "code",
   "execution_count": 2,
   "metadata": {
    "tags": [
     "remove-cell"
    ]
   },
   "outputs": [],
   "source": [
    "import numpy as np\n",
    "import matplotlib.pyplot as plt\n",
    "\n",
    "from IPython.display import HTML, set_matplotlib_formats\n",
    "\n",
    "set_matplotlib_formats('pdf', 'svg')\n",
    "css_style = open('../../_static/custom_style.css', 'r').read()\n",
    "HTML(f'<style>{css_style}</style>')\n",
    "\n",
    "%config InlineBackend.figure_format = 'svg'"
   ]
  },
  {
   "cell_type": "markdown",
   "metadata": {},
   "source": [
    "In [classification](../classification/classification-intro.ipynb) we looked at different approaches for classifying a set of datapoints as one of mutiple classes each. In several classification applications such as image classification, the number of inputs per datapoint can be very large. For example, the images in the MNIST handwritten digits database are $28 \\times 28$ pixel images, living in a $784$-dimensional space of pixel intensities. However, the MNIST images do not populate the whole space homogeneously but rather occupy a smaller subspace: although there is variability within the dataset due to different handwritings, slightly rotated or translated characters and so on, the characters of a given class $(0, 1, 2 ..., 9)$ are somewhat similar to each other:"
   ]
  },
  {
   "cell_type": "markdown",
   "metadata": {
    "tags": [
     "centre-content"
    ]
   },
   "source": [
    "![](mnist.svg)"
   ]
  },
  {
   "cell_type": "markdown",
   "metadata": {},
   "source": [
    "In addition to images belonging to the same class being similar to each other, some images are never encountered in the dataset and certain parts of this $784$-dimensional space are empty. Consider for example the three images below, all of which belong to the same $784$-dimensional space as the MNIST characters but are significantly different from them."
   ]
  },
  {
   "cell_type": "markdown",
   "metadata": {
    "tags": [
     "centre-content"
    ]
   },
   "source": [
    "![](dim-red-examples.svg)"
   ]
  },
  {
   "cell_type": "markdown",
   "metadata": {},
   "source": [
    "To drive the point home with an example which can be visualised, the fourth image shows a $2$D dataset in which the points lie mostly along the direction of the arrow, and there is little variability along the direction perpendicular to the arrow."
   ]
  },
  {
   "cell_type": "markdown",
   "metadata": {
    "tags": [
     "centre-content"
    ]
   },
   "source": [
    "![](dim-red-gaussian.svg)"
   ]
  },
  {
   "cell_type": "markdown",
   "metadata": {},
   "source": [
    "There are two main issues which arise from this discussion. In some datasets:\n",
    "\n",
    "1. Certain directions of low variability may not be particularly informative about the data. For example, we could drop the direction perpendicular to the black arrow in the dataset above and still retain enough information to fit a simpler model to the now $1$D dataset. This is an example of data pre-processing to simplify model fitting.\n",
    "\n",
    "2. Finding the directions of highest variability, corresponding to the black arrow here, may be a question in itself when trying to determine which features are important or unimportant for describing a particular dataset.\n",
    "\n",
    "We will discuss these issues further in the the next section on [principal component analysis](dim-red-pca.ipynb) (PCA)"
   ]
  },
  {
   "cell_type": "code",
   "execution_count": null,
   "metadata": {},
   "outputs": [],
   "source": []
  }
 ],
 "metadata": {
  "kernelspec": {
   "display_name": "Python 3",
   "language": "python",
   "name": "python3"
  },
  "language_info": {
   "codemirror_mode": {
    "name": "ipython",
    "version": 3
   },
   "file_extension": ".py",
   "mimetype": "text/x-python",
   "name": "python",
   "nbconvert_exporter": "python",
   "pygments_lexer": "ipython3",
   "version": "3.6.8"
  }
 },
 "nbformat": 4,
 "nbformat_minor": 4
}
