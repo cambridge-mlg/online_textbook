{
 "cells": [
  {
   "cell_type": "markdown",
   "metadata": {},
   "source": [
    "# Inference and decision making: A medical diagnosis and treatment example\n",
    "\n"
   ]
  },
  {
   "cell_type": "code",
   "execution_count": 1,
   "metadata": {
    "hide_input": true
   },
   "outputs": [
    {
     "data": {
      "text/html": [
       "\n",
       "    <style>\n",
       "    .output {\n",
       "        font-family: \"Georgia\", serif;\n",
       "        align-items: normal;\n",
       "        text-align: normal;\n",
       "    }\n",
       "    \n",
       "    div.output_svg div { margin : auto; }\n",
       "\n",
       "    .div.output_area.MathJax_Display{ text-align: center; }\n",
       "\n",
       "    div.text_cell_render { font-family: \"Georgia\", serif; }\n",
       "    \n",
       "    details {\n",
       "        margin: 20px 0px;\n",
       "        padding: 0px 10px;\n",
       "        border-radius: 3px;\n",
       "        border-style: solid;\n",
       "        border-color: black;\n",
       "        border-width: 2px;\n",
       "    }\n",
       "\n",
       "    details div{padding: 20px 30px;}\n",
       "\n",
       "    details summary{font-size: 18px;}\n",
       "    \n",
       "    table { margin: auto !important; }\n",
       "    \n",
       "    </style>\n",
       "    "
      ],
      "text/plain": [
       "<IPython.core.display.HTML object>"
      ]
     },
     "metadata": {},
     "output_type": "display_data"
    }
   ],
   "source": [
    "import sys\n",
    "sys.path.append('..')\n",
    "from helper_functions import *\n",
    "set_notebook_preferences()"
   ]
  }
 ],
 "metadata": {
  "kernelspec": {
   "display_name": "Python 3",
   "language": "python",
   "name": "python3"
  },
  "language_info": {
   "codemirror_mode": {
    "name": "ipython",
    "version": 3
   },
   "file_extension": ".py",
   "mimetype": "text/x-python",
   "name": "python",
   "nbconvert_exporter": "python",
   "pygments_lexer": "ipython3",
   "version": "3.6.5"
  }
 },
 "nbformat": 4,
 "nbformat_minor": 2
}
