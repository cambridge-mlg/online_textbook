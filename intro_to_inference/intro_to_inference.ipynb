{
 "cells": [
  {
   "cell_type": "code",
   "execution_count": 1,
   "metadata": {
    "hide_input": true
   },
   "outputs": [
    {
     "data": {
      "text/html": [
       "\n",
       "    <style>\n",
       "    .output {\n",
       "        font-family: \"Georgia\", serif;\n",
       "        align-items: normal;\n",
       "        text-align: normal;\n",
       "    }\n",
       "    \n",
       "    div.output_svg div { margin : auto; }\n",
       "\n",
       "    .div.output_area.MathJax_Display{ text-align: center; }\n",
       "\n",
       "    div.text_cell_render { font-family: \"Georgia\", serif; }\n",
       "    \n",
       "    \n",
       "    \n",
       "    details {\n",
       "        margin: 20px 0px;\n",
       "        padding: 0px 10px;\n",
       "        border-radius: 3px;\n",
       "        border-style: solid;\n",
       "        border-color: black;\n",
       "        border-width: 2px;\n",
       "    }\n",
       "\n",
       "    details div{padding: 20px 30px;}\n",
       "\n",
       "    details summary{font-size: 18px;}\n",
       "    \n",
       "    table { margin: auto !important; }\n",
       "    \n",
       "    </style>\n",
       "    <script>\n",
       "    $('iframe').parents('div.cell.code_cell').find('div.input').hide()\n",
       "    $('.toggle_button').parents('div.cell.code_cell').find('div.input').hide()\n",
       "    $('.toggle_button').each(function( index, element ) {\n",
       "       $(this).val('Show ' + $(this).val().substring(5))\n",
       "    });\n",
       "    </script>\n",
       "    "
      ],
      "text/plain": [
       "<IPython.core.display.HTML object>"
      ]
     },
     "metadata": {},
     "output_type": "display_data"
    }
   ],
   "source": [
    "import sys\n",
    "sys.path.append('..')\n",
    "from helper_functions import *\n",
    "set_notebook_preferences()"
   ]
  },
  {
   "cell_type": "markdown",
   "metadata": {},
   "source": [
    "# 1. An Introduction to Inference\n",
    "\n",
    "Many problems involve estimating unobserved variables from observed data. For example\n",
    "\n",
    "1. A climate scientist takes historical atmospheric temperature and CO2 measurements from around the globe and uses them to predict the global average temperature in 10 years time.\n",
    "\n",
    "2. A physicist measures the rotation of galaxies and uses this to estimate the distribution of dark matter through the universe.\n",
    "\n",
    "3. An autonomous driving system uses RGB and depth cameras to identify pedestrians and vehicles present in the environment.\n",
    "\n",
    "4. A movie recommendation system that takes sets of user film ratings and predicts what ratings each user would assign to unseen movies. \n",
    "\n",
    "5. A doctor might take a patient's genomic DNA sequence and use it to predict what genetic diseases they are likely to encounter in the future.\n",
    "\n",
    "\n",
    "|  Application | Observed variable | Unobserved variable | \n",
    "| :---: | :---: | :---: | :---: |\n",
    "| climate science | earth observations | climate forecast  |  \n",
    "| physics | observational measurements of the universe | fundamental constants |\n",
    "| autonomous driving | image pixel values | pedestrians and vehicles present in image |  \n",
    "| movie recommendation | ratings of watched films | ratings of unwatched films |\n",
    "| medicine | genome DNA | susceptibility to genetic diseases |\n",
    "\n",
    "These problems are called **inference** problems. One of the goals of this section of the book is to introduce a mathematical framework called probabilistic modelling and probabilistic inference for making these inferences. \n",
    "\n",
    "## Inference and decision making\n",
    "\n",
    "In the sciences, the value of the unobserved variables is often of central interest. For example, a physicist might want to estimate the fraction of the universe's mass attributable to dark matter. It is often important to report such estimates with error-bars. In many applications, however, including those drawn from engineering, business, or medicine,  the ultimate  purpose of the inference is to **make a decision** (e.g. to control a car, recommend a movie, or suggest a treatment). In these cases uncertainty is arguably even more critical. Consider an autonomous car driving at night in heavy rain whose vision system detects no other road users: we need to know the certainty in that inference before deciding what action to take.\n",
    "\n",
    "Another goal of the book is to introduce a  framework that enables inferences to be harnessed for decision making.\n",
    "\n",
    "\n",
    "## Flavours of inference and decision problems\n",
    "\n",
    "There are three broad flavours of machine learning problem.\n",
    "\n",
    "Imagine a machine that experiences a series of sensory inputs: $x_1$, $x_2$, $x_3$, $x_4$, ...\n",
    "\n",
    "**Supervised learning**: the machine is also given desired outputs $y_1$, $y_2$, ... and its goal is to learn to produce the correct output given a new input.\n",
    "\n",
    "**Unsupervised learning**: the goal of the machine is to build a model of $x$ that\n",
    "can be used for reasoning, decision making, predicting things, communicating etc.\n",
    "\n",
    "**Reinforcement learning**: the machine can also produce actions $a_1$, $a_2$, $...$\n",
    "which affect the state of the world, and receives rewards (or punishments)\n",
    "$r_1$, $r_2$, $...$. Its goal is to learn to act in a way that maximises rewards in the long term.\n",
    "\n",
    "## Outline of this section\n",
    "\n",
    "1. [Radioactive decay problem](radioactive.ipynb) \n",
    "\n",
    "  An introduction to probabilistic inference. Deficiencies of _ad hoc_ approaches are covered in: [Heuristic approaches to the radioactive decay problem](radioactive_heuristic_methods.ipynb) <br><br>\n",
    "   \n",
    "2. [A Medical problem](medical_example.ipynb)\n",
    "\n",
    "  Probabilistic inference and decision making\n",
    "\n"
   ]
  },
  {
   "cell_type": "code",
   "execution_count": null,
   "metadata": {},
   "outputs": [],
   "source": []
  }
 ],
 "metadata": {
  "kernelspec": {
   "display_name": "Python 3",
   "language": "python",
   "name": "python3"
  },
  "language_info": {
   "codemirror_mode": {
    "name": "ipython",
    "version": 3
   },
   "file_extension": ".py",
   "mimetype": "text/x-python",
   "name": "python",
   "nbconvert_exporter": "python",
   "pygments_lexer": "ipython3",
   "version": "3.6.5"
  }
 },
 "nbformat": 4,
 "nbformat_minor": 2
}
