{
 "cells": [
  {
   "cell_type": "code",
   "execution_count": 1,
   "metadata": {},
   "outputs": [
    {
     "ename": "ImportError",
     "evalue": "No module named 'helper_functions'",
     "output_type": "error",
     "traceback": [
      "\u001b[0;31m---------------------------------------------------------------------------\u001b[0m",
      "\u001b[0;31mImportError\u001b[0m                               Traceback (most recent call last)",
      "\u001b[0;32m<ipython-input-1-32799af55a88>\u001b[0m in \u001b[0;36m<module>\u001b[0;34m()\u001b[0m\n\u001b[1;32m      9\u001b[0m \u001b[0;32mimport\u001b[0m \u001b[0msys\u001b[0m\u001b[0;34m\u001b[0m\u001b[0m\n\u001b[1;32m     10\u001b[0m \u001b[0msys\u001b[0m\u001b[0;34m.\u001b[0m\u001b[0mpath\u001b[0m\u001b[0;34m.\u001b[0m\u001b[0mappend\u001b[0m\u001b[0;34m(\u001b[0m\u001b[0;34m'..'\u001b[0m\u001b[0;34m)\u001b[0m\u001b[0;34m\u001b[0m\u001b[0m\n\u001b[0;32m---> 11\u001b[0;31m \u001b[0;32mfrom\u001b[0m \u001b[0mhelper_functions\u001b[0m \u001b[0;32mimport\u001b[0m \u001b[0;34m*\u001b[0m\u001b[0;34m\u001b[0m\u001b[0m\n\u001b[0m\u001b[1;32m     12\u001b[0m \u001b[0;34m\u001b[0m\u001b[0m\n\u001b[1;32m     13\u001b[0m \u001b[0;31m# set things like fonts etc - comes from helper_functions\u001b[0m\u001b[0;34m\u001b[0m\u001b[0;34m\u001b[0m\u001b[0m\n",
      "\u001b[0;31mImportError\u001b[0m: No module named 'helper_functions'"
     ]
    }
   ],
   "source": [
    "%config InlineBackend.figure_format = 'svg' # change output plot display format to 'svg'\n",
    "\n",
    "# import the required modules for this notebook\n",
    "import numpy as np\n",
    "import matplotlib.pyplot as plt\n",
    "\n",
    "# import the helper functions from the parent directory,\n",
    "# these help with things like graph plotting and notebook layout\n",
    "import sys\n",
    "sys.path.append('..')\n",
    "from helper_functions import *\n",
    "\n",
    "# set things like fonts etc - comes from helper_functions\n",
    "set_notebook_preferences()\n",
    "\n",
    "# add a show/hide code button - also from helper_functions\n",
    "toggle_code(title = \"setup code\")"
   ]
  },
  {
   "cell_type": "markdown",
   "metadata": {},
   "source": [
    "# Covariance functions\n",
    "\n",
    "In the previous section we played around with gaussian samples and hinted at how a gaussian, equipped with an appropriate covariance $\\boldsymbol{\\Sigma}$, could be used for non-linear regression. We pick up the discussion where we left it off: extending our covariance from an integer to a continuous domain.\n",
    "\n",
    "Since we want to do regression over all $x \\in \\mathbb{R}$ and not just at integer values, we need a covariance matrix which is defined over the whole of the reals, not just the integers. In the next chapter, we will introduce the concept of a *covariance function* $k(x, x') \\text{ with }x, x' \\in \\mathbb{R}$, which tells us how correlated the sampled values at real $x$ and $x'$ are. The covariance function is picked at the start\n",
    "\n",
    "to make the following mental leap: let's substitute $\\boldsymbol{\\Sigma}_{ij} = \\Sigma(i, j)$, a function with a discrete domain, with $k(x, x')$, a function over with a continuous domain $x, x'$. When we sampled finite-sized vectors, $\\Sigma(i, j)$ gave us the covariance between the $i^{th}$ and $j^{th}$ elements of the vector. Using a covariance $k(x, x')$ with a continuous domain will enable us to sample at non-integer positions. $k(x, x')$ will be telling us how correlated the sampled values at $x$ and $x'$ are. \n",
    "\n",
    "Our choice of $k(x, x')$ will enforce a particular structure on our model. For example, by picking a function $k(x, x')$ which is small when $|x - x'|$ is large and vice versa, then nearby points in $x$-space will have highly correlated outputs and oppositely for points which are distant to each other."
   ]
  },
  {
   "cell_type": "code",
   "execution_count": null,
   "metadata": {},
   "outputs": [],
   "source": []
  }
 ],
 "metadata": {
  "kernelspec": {
   "display_name": "Python 3",
   "language": "python",
   "name": "python3"
  },
  "language_info": {
   "codemirror_mode": {
    "name": "ipython",
    "version": 3
   },
   "file_extension": ".py",
   "mimetype": "text/x-python",
   "name": "python",
   "nbconvert_exporter": "python",
   "pygments_lexer": "ipython3",
   "version": "3.5.0"
  }
 },
 "nbformat": 4,
 "nbformat_minor": 2
}
