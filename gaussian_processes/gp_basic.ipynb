{
 "cells": [
  {
   "cell_type": "code",
   "execution_count": 1,
   "metadata": {},
   "outputs": [
    {
     "ename": "ImportError",
     "evalue": "No module named 'helper_functions'",
     "output_type": "error",
     "traceback": [
      "\u001b[0;31m---------------------------------------------------------------------------\u001b[0m",
      "\u001b[0;31mImportError\u001b[0m                               Traceback (most recent call last)",
      "\u001b[0;32m<ipython-input-1-32799af55a88>\u001b[0m in \u001b[0;36m<module>\u001b[0;34m()\u001b[0m\n\u001b[1;32m      9\u001b[0m \u001b[0;32mimport\u001b[0m \u001b[0msys\u001b[0m\u001b[0;34m\u001b[0m\u001b[0m\n\u001b[1;32m     10\u001b[0m \u001b[0msys\u001b[0m\u001b[0;34m.\u001b[0m\u001b[0mpath\u001b[0m\u001b[0;34m.\u001b[0m\u001b[0mappend\u001b[0m\u001b[0;34m(\u001b[0m\u001b[0;34m'..'\u001b[0m\u001b[0;34m)\u001b[0m\u001b[0;34m\u001b[0m\u001b[0m\n\u001b[0;32m---> 11\u001b[0;31m \u001b[0;32mfrom\u001b[0m \u001b[0mhelper_functions\u001b[0m \u001b[0;32mimport\u001b[0m \u001b[0;34m*\u001b[0m\u001b[0;34m\u001b[0m\u001b[0m\n\u001b[0m\u001b[1;32m     12\u001b[0m \u001b[0;34m\u001b[0m\u001b[0m\n\u001b[1;32m     13\u001b[0m \u001b[0;31m# set things like fonts etc - comes from helper_functions\u001b[0m\u001b[0;34m\u001b[0m\u001b[0;34m\u001b[0m\u001b[0m\n",
      "\u001b[0;31mImportError\u001b[0m: No module named 'helper_functions'"
     ]
    }
   ],
   "source": [
    "%config InlineBackend.figure_format = 'svg' # change output plot display format to 'svg'\n",
    "\n",
    "# import the required modules for this notebook\n",
    "import numpy as np\n",
    "import matplotlib.pyplot as plt\n",
    "\n",
    "# import the helper functions from the parent directory,\n",
    "# these help with things like graph plotting and notebook layout\n",
    "import sys\n",
    "sys.path.append('..')\n",
    "from helper_functions import *\n",
    "\n",
    "# set things like fonts etc - comes from helper_functions\n",
    "set_notebook_preferences()\n",
    "\n",
    "# add a show/hide code button - also from helper_functions\n",
    "toggle_code(title = \"setup code\")"
   ]
  },
  {
   "cell_type": "markdown",
   "metadata": {},
   "source": [
    "# Covariance functions\n",
    "\n",
    "In the previous section we played around with gaussian samples and hinted at how a simple multivariate gaussian, equipped with an appropriate covariance $\\boldsymbol{\\Sigma}$, could be used for non-linear regression. We pick up the discussion where we left it off, by extending the covariance from an integer to a continuous domain. Since we want to do regression over all $x \\in \\mathbb{R}$ and not just at integer values, we need a covariance matrix defined for non-integer inputs. We can do this via the concept of a *covariance function*. Given inputs $\\{\\mathbf{x}_n\\}_{n = 1}^N$, a function $k(\\mathbf{x}, \\mathbf{x}')$ is a valid covariance function if and only if the associated covariance matrix\n",
    "\n",
    "$$ \\mathbf{K} = \\begin{pmatrix}\n",
    "k(\\mathbf{x}_1, \\mathbf{x}_1) & k(\\mathbf{x}_1, \\mathbf{x}_2) & \\ldots & k(\\mathbf{x}_1, \\mathbf{x}_N)\\\\\n",
    "k(\\mathbf{x}_2, \\mathbf{x}_1) & k(\\mathbf{x}_2, \\mathbf{x}_2) & \\ldots & k(\\mathbf{x}_2, \\mathbf{x}_N)\\\\\n",
    "\\vdots & \\vdots & \\ddots & \\vdots \\\\\n",
    "k(\\mathbf{x}_N, \\mathbf{x}_1) & k(\\mathbf{x}_N, \\mathbf{x}_2) & \\ldots & k(\\mathbf{x}_N, \\mathbf{x}_N)\\\\\n",
    "\\end{pmatrix} $$\n",
    "\n",
    "is positive-definite - i.e. all its eigenvalues are larger than 0. Positive-definiteness is necessary to ensure that $\\mathcal{N}(\\mathbf{0}, \\mathbf{K})$ is a valid gaussian distribution: if $\\mathbf{K}$ had a non-positive eigenvalue, the integral of $\\mathcal{N}(\\mathbf{0}, \\mathbf{K})$ would diverge, so this would not be a valid probability distribution. Below are some examples of covariance functions. We give these without proving positive-definiteness, which is typically tricky to show, "
   ]
  },
  {
   "cell_type": "code",
   "execution_count": null,
   "metadata": {},
   "outputs": [],
   "source": []
  }
 ],
 "metadata": {
  "kernelspec": {
   "display_name": "Python 3",
   "language": "python",
   "name": "python3"
  },
  "language_info": {
   "codemirror_mode": {
    "name": "ipython",
    "version": 3
   },
   "file_extension": ".py",
   "mimetype": "text/x-python",
   "name": "python",
   "nbconvert_exporter": "python",
   "pygments_lexer": "ipython3",
   "version": "3.5.0"
  }
 },
 "nbformat": 4,
 "nbformat_minor": 2
}
