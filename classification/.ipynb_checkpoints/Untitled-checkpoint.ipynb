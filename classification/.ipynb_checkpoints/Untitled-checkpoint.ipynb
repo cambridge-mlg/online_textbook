{
 "cells": [
  {
   "cell_type": "markdown",
   "metadata": {},
   "source": [
    "# 3. Classification\n",
    "\n",
    "In the previous section on __[regression](regression.ipynb)__ we addressed the goal of predicting a **continuous** output $\\mathbf{y}^*$ given its input $\\mathbf{x}^*$ and some training examples $\\{\\mathbf{x}_n, \\mathbf{y}_n\\}^N_{n = 1}$. In other problems however, the output $\\mathbf{y}^*$ to be predicted is **discrete** instead of continuous, and represents the class to which the sample point belongs. For example, the class could be encoded in a vector $\\mathbf{y}^*$ of length $K$ containing zeroes at $(K-1)$ of the entries and a single $1$ at some entry to denote the class to which the sample belongs.\n",
    "\n",
    "Consider for example a flower classification problem where we are given a vector $\\mathbf{x}^*$ with four continuous entries representing (sepal length, sepal width, petal length, petal width) of an Iris flower, and are asked to predict which class the flower belongs to out of three possibilities: iris setosa, viridia or virginica. This problem is based on the iconic __[Iris dataset](https://en.wikipedia.org/wiki/Iris_flower_data_set)__. A more challenging classification problem is the __[MNIST handwritten digits](https://en.wikipedia.org/wiki/MNIST_database)__ database containing $28 \\times 28$ pixel images of handwritten digits and corresponding labels, where the task is to predict the label of a digit from its image.\n",
    "\n",
    "<div class=\"row\">\n",
    "  <div class=\"column\">\n",
    "    <img src=\"iris_matrix.svg\" alt=\"Snow\" style=\"width:50%; float: left; padding: 50px\">\n",
    "  </div>\n",
    "  <div class=\"column\">\n",
    "    <img src=\"mnist.svg\" alt=\"Forest\" style=\"width:50%; float: right; padding: 50px\">\n",
    "  </div>\n",
    "</div>\n",
    "\n",
    "In this section we will be working on a subset of the Iris dataset, initially considering only the sepal length and sepal width as inputs and two out of three classes for simplicity. We will later ramp-up the problem to include all inputs and classes. "
   ]
  },
  {
   "cell_type": "code",
   "execution_count": 2,
   "metadata": {},
   "outputs": [
    {
     "data": {
      "application/javascript": [
       "IPython.OutputArea.prototype._should_scroll = function(lines) {\n",
       "    return false;\n",
       "}"
      ],
      "text/plain": [
       "<IPython.core.display.Javascript object>"
      ]
     },
     "metadata": {},
     "output_type": "display_data"
    }
   ],
   "source": [
    "%%javascript\n",
    "IPython.OutputArea.prototype._should_scroll = function(lines) {\n",
    "    return false;\n",
    "}"
   ]
  },
  {
   "cell_type": "code",
   "execution_count": 3,
   "metadata": {},
   "outputs": [
    {
     "data": {
      "text/html": [
       "\n",
       "    <style>\n",
       "    .output {\n",
       "        font-family: \"Georgia\", serif;\n",
       "        align-items: normal;\n",
       "        text-align: normal;\n",
       "    }\n",
       "    \n",
       "    div.output_svg div { margin : auto; }\n",
       "\n",
       "    .div.output_area.MathJax_Display{ text-align: center; }\n",
       "\n",
       "    div.text_cell_render { font-family: \"Georgia\", serif; }\n",
       "    \n",
       "    details {\n",
       "        margin: 20px 0px;\n",
       "        padding: 0px 10px;\n",
       "        border-radius: 3px;\n",
       "        border-style: solid;\n",
       "        border-color: black;\n",
       "        border-width: 2px;\n",
       "    }\n",
       "\n",
       "    details div{padding: 20px 30px;}\n",
       "\n",
       "    details summary{font-size: 18px;}\n",
       "    \n",
       "    table { margin: auto !important; }\n",
       "    \n",
       "    </style>\n",
       "    "
      ],
      "text/plain": [
       "<IPython.core.display.HTML object>"
      ]
     },
     "metadata": {},
     "output_type": "display_data"
    }
   ],
   "source": [
    "# The usual notebook preferences\n",
    "%config InlineBackend.figure_format = 'svg'\n",
    "import numpy as np\n",
    "import matplotlib.pyplot as plt\n",
    "from helper_functions import *\n",
    "set_notebook_preferences()"
   ]
  }
 ],
 "metadata": {
  "kernelspec": {
   "display_name": "Python 3",
   "language": "python",
   "name": "python3"
  },
  "language_info": {
   "codemirror_mode": {
    "name": "ipython",
    "version": 3
   },
   "file_extension": ".py",
   "mimetype": "text/x-python",
   "name": "python",
   "nbconvert_exporter": "python",
   "pygments_lexer": "ipython3",
   "version": "3.6.1"
  }
 },
 "nbformat": 4,
 "nbformat_minor": 2
}
