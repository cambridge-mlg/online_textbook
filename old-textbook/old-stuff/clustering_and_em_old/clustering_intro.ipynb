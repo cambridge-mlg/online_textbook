{
 "cells": [
  {
   "cell_type": "markdown",
   "metadata": {},
   "source": [
    "# 5. Clustering and EM\n",
    "\n",
    "The tasks we have encountered so far, like those in the __[regression](/notebooks/notebooks_new/regression/regression_intro.ipynb)__ and __[classification](/notebooks/notebooks_new/classification/classification.ipynb)__ sections have been *supervised learning* problems. In supervised learning we are given some input-output example pairs $\\{\\mathbf{x}_n, \\mathbf{y}_n\\}$ to which we fit a model to make predictions. By contrast, in *unsupervised learning* we are given only the input data $\\{\\mathbf{x}_n\\}$ with the goal of doing inference on it. This definition is very loose and consequently the spectrum of possible inference methods is extremely broad. Consider for example the task of taking the examples $\\{\\mathbf{x}_n\\}$ and grouping them in clusters like the image below:\n",
    "\n",
    "<img src=\"clustering_example.svg\" alt=\"Snow\" style=\"width:80%; float: center; padding:0px\">\n",
    "\n",
    "In this section we will cover two clustering methods: the k-means algorithm (deterministic) and the mixture of gaussians model (probabilistic). Both involve a learning phase during which model parameters are optimised, but unfortunately there is no single-step closed form solution to either optimisation problem, which must be solved approximately. For this optimisation we will use the *Expectation Maximisation* or EM algorithm, which is applicable to many other approximate inference problems."
   ]
  },
  {
   "cell_type": "code",
   "execution_count": 2,
   "metadata": {
    "hide_input": true
   },
   "outputs": [
    {
     "data": {
      "text/html": [
       "\n",
       "    <style>\n",
       "    .output {\n",
       "        font-family: \"Georgia\", serif;\n",
       "        align-items: normal;\n",
       "        text-align: normal;\n",
       "    }\n",
       "    \n",
       "    div.output_svg div { margin : auto; }\n",
       "\n",
       "    .div.output_area.MathJax_Display{ text-align: center; }\n",
       "\n",
       "    div.text_cell_render { font-family: \"Georgia\", serif; }\n",
       "    \n",
       "    details {\n",
       "        margin: 20px 0px;\n",
       "        padding: 0px 10px;\n",
       "        border-radius: 3px;\n",
       "        border-style: solid;\n",
       "        border-color: black;\n",
       "        border-width: 2px;\n",
       "    }\n",
       "\n",
       "    details div{padding: 20px 30px;}\n",
       "\n",
       "    details summary{font-size: 18px;}\n",
       "    \n",
       "    table { margin: auto !important; }\n",
       "    \n",
       "    </style>\n",
       "    "
      ],
      "text/plain": [
       "<IPython.core.display.HTML object>"
      ]
     },
     "metadata": {},
     "output_type": "display_data"
    }
   ],
   "source": [
    "%config InlineBackend.figure_format = 'svg'\n",
    "from helper_functions import *\n",
    "set_notebook_preferences()"
   ]
  }
 ],
 "metadata": {
  "kernelspec": {
   "display_name": "Python 3",
   "language": "python",
   "name": "python3"
  },
  "language_info": {
   "codemirror_mode": {
    "name": "ipython",
    "version": 3
   },
   "file_extension": ".py",
   "mimetype": "text/x-python",
   "name": "python",
   "nbconvert_exporter": "python",
   "pygments_lexer": "ipython3",
   "version": "3.5.0"
  }
 },
 "nbformat": 4,
 "nbformat_minor": 2
}
