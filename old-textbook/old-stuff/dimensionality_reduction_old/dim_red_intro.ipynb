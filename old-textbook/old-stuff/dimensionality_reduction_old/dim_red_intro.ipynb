{
 "cells": [
  {
   "cell_type": "markdown",
   "metadata": {},
   "source": [
    "# 4. Dimensionality Reduction"
   ]
  },
  {
   "cell_type": "code",
   "execution_count": 146,
   "metadata": {
    "hide_input": true
   },
   "outputs": [
    {
     "data": {
      "text/html": [
       "\n",
       "    <style>\n",
       "    .output {\n",
       "        font-family: \"Georgia\", serif;\n",
       "        align-items: normal;\n",
       "        text-align: normal;\n",
       "    }\n",
       "    \n",
       "    div.output_svg div { margin : auto; }\n",
       "\n",
       "    .div.output_area.MathJax_Display{ text-align: center; }\n",
       "\n",
       "    div.text_cell_render { font-family: \"Georgia\", serif; }\n",
       "    \n",
       "    details {\n",
       "        margin: 20px 0px;\n",
       "        padding: 0px 10px;\n",
       "        border-radius: 3px;\n",
       "        border-style: solid;\n",
       "        border-color: black;\n",
       "        border-width: 2px;\n",
       "    }\n",
       "\n",
       "    details div{padding: 20px 30px;}\n",
       "\n",
       "    details summary{font-size: 18px;}\n",
       "    \n",
       "    table { margin: auto !important; }\n",
       "    \n",
       "    </style>\n",
       "    "
      ],
      "text/plain": [
       "<IPython.core.display.HTML object>"
      ]
     },
     "metadata": {},
     "output_type": "display_data"
    }
   ],
   "source": [
    "%config InlineBackend.figure_format = 'svg'\n",
    "import numpy as np\n",
    "import matplotlib.pyplot as plt\n",
    "from helper_functions import *\n",
    "set_notebook_preferences()"
   ]
  },
  {
   "cell_type": "markdown",
   "metadata": {},
   "source": [
    "In several applications such as image classification the number of inputs per datapoint can be very large. For example, the images in the MNIST handwritten digits database are $28 \\times 28$ pixel images, living in a $784$-dimensional space of pixel intensities. However, the MNIST images do not populate the whole space homogeneously but rather occupy a smaller subspace: although there is variability within the dataset due to different handwritings, slightly rotated or translated characters and so on, the characters of a given class $(0, 1, 2 ..., 9)$ are somewhat similar to each other:\n",
    "\n",
    "<img src=\"mnist.svg\" alt=\"Forest\" style=\"width:50%; float: center; padding: 0px\">\n",
    "\n",
    "In addition to images belonging to the same class being similar to each other, some images are never encountered in the dataset and certain parts of this $784$-dimensional space are empty. Consider for example the three images below, all of which belong to the same $784$-dimensional space as the MNIST characters but are significantly different from them.\n",
    "\n",
    "<img src=\"dim_red_examples.svg\" alt=\"Snow\" style=\"width:75%; float: center; padding: 0px\">\n",
    "\n",
    "To drive the point home with an example which can be visualised, the fourth image shows a $2$D dataset in which the points lie mostly along the direction of the arrow, and there is little variability along the direction perpendicular to the arrow.\n",
    "\n",
    "<img src=\"dim_red_gaussian.svg\" alt=\"Snow\" style=\"width:60%; float: center; padding: 0px\">\n",
    "\n",
    "**Fix plot**\n",
    "There are two main issues which arise from this discussion. In some datasets:\n",
    "\n",
    "1. Certain directions of low variability may not be particularly informative about the data. For example, we could drop the direction perpendicular to the black arrow in the dataset above and still retain enough information to fit a simpler model to the now $1$D dataset. This is an example of data pre-processing to simplify model fitting.\n",
    "\n",
    "2. Finding the directions of highest variability, corresponding to the black arrow here, may be a question in itself when trying to determine which features are important or unimportant for describing a particular dataset."
   ]
  },
  {
   "cell_type": "code",
   "execution_count": null,
   "metadata": {},
   "outputs": [],
   "source": []
  }
 ],
 "metadata": {
  "kernelspec": {
   "display_name": "Python 3",
   "language": "python",
   "name": "python3"
  },
  "language_info": {
   "codemirror_mode": {
    "name": "ipython",
    "version": 3
   },
   "file_extension": ".py",
   "mimetype": "text/x-python",
   "name": "python",
   "nbconvert_exporter": "python",
   "pygments_lexer": "ipython3",
   "version": "3.5.0"
  }
 },
 "nbformat": 4,
 "nbformat_minor": 2
}
