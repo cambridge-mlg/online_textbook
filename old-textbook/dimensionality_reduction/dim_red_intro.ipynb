{
 "cells": [
  {
   "cell_type": "code",
   "execution_count": 2,
   "metadata": {
    "hide_input": true
   },
   "outputs": [
    {
     "data": {
      "text/html": [
       "\n",
       "    <style>\n",
       "  .output {\n",
       "    font-family: ariel;\n",
       "    align-items: normal;\n",
       "    text-align: normal;\n",
       "}\n",
       "\n",
       "div.output_svg div { margin : auto; }\n",
       ".div.output_area.MathJax_Display{ text-align: center; }\n",
       "div.text_cell_render { font-family: sans-serif; }\n",
       "\n",
       "details {\n",
       "    margin: 20px 0px;\n",
       "    padding: 0px 10px;\n",
       "    border-radius: 3px;\n",
       "    border-style: solid;\n",
       "    border-color: black;\n",
       "    border-width: 2px;\n",
       "}\n",
       "details div{padding: 20px 30px;}\n",
       "details summary{font-size: 18px;}\n",
       "\n",
       "table {\n",
       "     margin: calc(auto + 10px) !important;\n",
       "     border: solid !important;\n",
       " }\n",
       "\n",
       " th, td {\n",
       "    text-align: left !important;\n",
       " }\n",
       "\n",
       " .further_box {\n",
       "    background-color:rgb(230, 230, 230);\n",
       "    border-style: solid;\n",
       "    margin: 10px 10px 10px 0px;\n",
       "    padding: 10px;\n",
       "    left:calc(auto - 20px);\n",
       " }\n",
       "\n",
       " .question_box {\n",
       "    background-color:rgb(255, 255, 225);\n",
       "    border-style: solid;\n",
       "    margin: 10px 10px 10px 0px;\n",
       "    padding: 10px;\n",
       "    left:calc(auto - 20px);\n",
       " }\n",
       "    </style>\n",
       "     <input type=\"submit\" value='Home' class='home_button' onclick='window.location=\"../index.html\"' style='float: right; margin-right: 40px;'>\n",
       "    <script>\n",
       "    $('.home_button').not(':first').remove();\n",
       "    $(\".home_button\").insertBefore($(\"div.cell\").first());\n",
       "    console.log($('div.input.init_hidden'))\n",
       "    $('div.input.init_hidden').hide()\n",
       "    $('div.input.init_shown').show()\n",
       "    $('.toggle_button').each(function( index, element ) {\n",
       "       var prefix;\n",
       "       if (this.classList.contains('init_show')) {\n",
       "           prefix = 'Show '\n",
       "       }\n",
       "       else if (this.classList.contains('init_hide')) {\n",
       "           prefix = 'Hide '\n",
       "       };\n",
       "       $(this).val(prefix + $(this).val().substr($(this).val().indexOf(\" \") + 1))\n",
       "    });\n",
       "    IPython.OutputArea.prototype._should_scroll = function(lines) {\n",
       "        return false;\n",
       "    }\n",
       "    </script>\n",
       "    "
      ],
      "text/plain": [
       "<IPython.core.display.HTML object>"
      ]
     },
     "metadata": {},
     "output_type": "display_data"
    },
    {
     "data": {
      "text/html": [
       "\n",
       "    <script>\n",
       "      function get_new_label(butn, hide) {\n",
       "          var shown = !($(hide).is(':visible'))\n",
       "          var title = $(butn).val().substr($(butn).val().indexOf(\" \") + 1)\n",
       "          return ((shown) ? 'Hide ' : 'Show ') + title\n",
       "      }\n",
       "      function code_toggle(butn, hide) {\n",
       "          $(butn).val(get_new_label(butn,hide));\n",
       "          $(hide).slideToggle();\n",
       "      };\n",
       "    </script>\n",
       "    <input type=\"submit\" value='initiated' class='toggle_button'>\n",
       "    <script>\n",
       "        $(\".toggle_button[value='initiated']\").click(function(){\n",
       "            code_toggle(this, $(this).parents('div.cell.code_cell').find('div.input'))\n",
       "        }); \n",
       "        \n",
       "$(\".toggle_button[value='initiated']\").parents(\"div.output_area\").insertBefore($(\".toggle_button[value='initiated']\").parents(\"div.output\").find('div.output_area').first());\n",
       "    var shown = $(\".toggle_button[value='initiated']\").parents(\"div.cell.code_cell\").find('div.input').is(':visible');\n",
       "    var title = ((shown) ? 'Hide ' : 'Show ') + 'import functions'; \n",
       "     $(\".toggle_button[value='initiated']\").addClass(\"init_show\");\n",
       "        $(\".toggle_button[value='initiated']\").parents('div.code_cell').find('div.input').addClass(\"init_hidden\");  $(\".toggle_button[value='initiated']\").val(title);\n",
       "    </script>"
      ],
      "text/plain": [
       "<IPython.core.display.HTML object>"
      ]
     },
     "metadata": {},
     "output_type": "display_data"
    }
   ],
   "source": [
    "%config InlineBackend.figure_format = 'svg' # change output plot display format to 'svg'\n",
    "\n",
    "# import the helper functions from the parent directory,\n",
    "# these help with things like graph plotting and notebook layout\n",
    "import sys\n",
    "sys.path.append('..')\n",
    "from helper_functions import *\n",
    "\n",
    "# set things like fonts etc - comes from helper_functions\n",
    "set_notebook_preferences()\n",
    "\n",
    "# add a show/hide code button - also from helper_functions\n",
    "toggle_code(title = \"import functions\")"
   ]
  },
  {
   "cell_type": "markdown",
   "metadata": {},
   "source": [
    "# 4. Dimensionality Reduction"
   ]
  },
  {
   "cell_type": "markdown",
   "metadata": {},
   "source": [
    "In [classification](../classification/classification_intro.ipynb) we looked at different approaches for classifying a set of datapoints as one of mutiple classes each. In several classification applications such as image classification, the number of inputs per datapoint can be very large. For example, the images in the MNIST handwritten digits database are $28 \\times 28$ pixel images, living in a $784$-dimensional space of pixel intensities. However, the MNIST images do not populate the whole space homogeneously but rather occupy a smaller subspace: although there is variability within the dataset due to different handwritings, slightly rotated or translated characters and so on, the characters of a given class $(0, 1, 2 ..., 9)$ are somewhat similar to each other:\n",
    "\n",
    "<img src=\"mnist.svg\" alt=\"Forest\" style=\"width:50%; float: center; padding: 0px\">\n",
    "\n",
    "In addition to images belonging to the same class being similar to each other, some images are never encountered in the dataset and certain parts of this $784$-dimensional space are empty. Consider for example the three images below, all of which belong to the same $784$-dimensional space as the MNIST characters but are significantly different from them.\n",
    "\n",
    "<img src=\"dim_red_examples.svg\" alt=\"Snow\" style=\"width:75%; float: center; padding: 0px\">\n",
    "\n",
    "To drive the point home with an example which can be visualised, the fourth image shows a $2$D dataset in which the points lie mostly along the direction of the arrow, and there is little variability along the direction perpendicular to the arrow.\n",
    "\n",
    "<img src=\"dim_red_gaussian.svg\" alt=\"Snow\" style=\"width:50%; float: center; padding: 0px\">\n",
    "\n",
    "There are two main issues which arise from this discussion. In some datasets:\n",
    "\n",
    "1. Certain directions of low variability may not be particularly informative about the data. For example, we could drop the direction perpendicular to the black arrow in the dataset above and still retain enough information to fit a simpler model to the now $1$D dataset. This is an example of data pre-processing to simplify model fitting.\n",
    "\n",
    "2. Finding the directions of highest variability, corresponding to the black arrow here, may be a question in itself when trying to determine which features are important or unimportant for describing a particular dataset.\n",
    "\n",
    "We will discuss these issues further in the the next section on [principal component analysis](dim_red_pca.ipynb) (PCA)"
   ]
  }
 ],
 "metadata": {
  "kernelspec": {
   "display_name": "Python 3",
   "language": "python",
   "name": "python3"
  },
  "language_info": {
   "codemirror_mode": {
    "name": "ipython",
    "version": 3
   },
   "file_extension": ".py",
   "mimetype": "text/x-python",
   "name": "python",
   "nbconvert_exporter": "python",
   "pygments_lexer": "ipython3",
   "version": "3.6.5"
  }
 },
 "nbformat": 4,
 "nbformat_minor": 2
}
