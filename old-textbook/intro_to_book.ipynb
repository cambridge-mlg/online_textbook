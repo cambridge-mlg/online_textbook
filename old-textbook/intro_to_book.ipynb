{
 "cells": [
  {
   "cell_type": "markdown",
   "metadata": {},
   "source": [
    "# 0. Introduction to the book"
   ]
  },
  {
   "cell_type": "markdown",
   "metadata": {},
   "source": [
    "Here we provide some information about how to use this book."
   ]
  },
  {
   "cell_type": "code",
   "execution_count": 2,
   "metadata": {
    "hide_input": true
   },
   "outputs": [
    {
     "data": {
      "application/javascript": [
       "IPython.OutputArea.prototype._should_scroll = function(lines) {\n",
       "    return false;\n",
       "}"
      ],
      "text/plain": [
       "<IPython.core.display.Javascript object>"
      ]
     },
     "metadata": {},
     "output_type": "display_data"
    }
   ],
   "source": [
    "%%javascript\n",
    "IPython.OutputArea.prototype._should_scroll = function(lines) {\n",
    "    return false;\n",
    "}"
   ]
  },
  {
   "cell_type": "markdown",
   "metadata": {},
   "source": [
    "## A note on Numpy and Matplotlib and helper functions\n",
    "\n",
    "We will be using __[Numpy](http://www.numpy.org/)__ for this section and the entirety of the course. Numpy is a scientific computing package for Python which enables us to do vector and (multidimensional) matrix arithmetic very neatly, without any for loops and also much faster than if we used for loops because it is optimised under the hood $-$ if you're not already familiar, you will shortly be fluent with Numpy and appreciate the effort it saves. We will also use __[Matplotlib](http://www.matplotlib.org/)__ for plotting, which works very well with Numpy.\n",
    "\n",
    "We'll try to make the use of Numpy/Matplotlib clear and explain what various methods do as we go, but looking up and finding their documentation by yourself is an important and very useful skill. We now import Numpy and Matplotlib and also some helper functions (which we will use later to make the code less cluttered).\n",
    "\n",
    "For convenience and to make the code more readable we will also be using some custom helper functions. You shouldn't worry about their details and their names should be self-explanatory."
   ]
  },
  {
   "cell_type": "code",
   "execution_count": 3,
   "metadata": {
    "hide_input": true
   },
   "outputs": [
    {
     "data": {
      "text/html": [
       "\n",
       "    <style>\n",
       "    .output {\n",
       "        font-family: \"Georgia\", serif;\n",
       "        align-items: normal;\n",
       "        text-align: normal;\n",
       "    }\n",
       "    \n",
       "    div.output_svg div { margin : auto; }\n",
       "\n",
       "    .div.output_area.MathJax_Display{ text-align: center; }\n",
       "\n",
       "    div.text_cell_render { font-family: \"Georgia\", serif; }\n",
       "    \n",
       "    details {\n",
       "        margin: 20px 0px;\n",
       "        padding: 0px 10px;\n",
       "        border-radius: 3px;\n",
       "        border-style: solid;\n",
       "        border-color: black;\n",
       "        border-width: 2px;\n",
       "    }\n",
       "\n",
       "    details div{padding: 20px 30px;}\n",
       "\n",
       "    details summary{font-size: 18px;}\n",
       "    \n",
       "    table { margin: auto !important; }\n",
       "    \n",
       "    </style>\n",
       "    "
      ],
      "text/plain": [
       "<IPython.core.display.HTML object>"
      ]
     },
     "metadata": {},
     "output_type": "display_data"
    }
   ],
   "source": [
    "%config InlineBackend.figure_format = 'svg' # change output plot format to 'svg' - you don't need to worry about this\n",
    "# In subsequent demos the next import statements will be hidden either\n",
    "# within the helper_functions import or by hiding the code cell\n",
    "from helper_functions import * # import some helper functions used for convenience - you don't need to worry about this\n",
    "import helper_functions as h\n",
    "\n",
    "set_notebook_preferences() # set things like fonts etc - comes from helper_functions"
   ]
  }
 ],
 "metadata": {
  "kernelspec": {
   "display_name": "Python 3",
   "language": "python",
   "name": "python3"
  },
  "language_info": {
   "codemirror_mode": {
    "name": "ipython",
    "version": 3
   },
   "file_extension": ".py",
   "mimetype": "text/x-python",
   "name": "python",
   "nbconvert_exporter": "python",
   "pygments_lexer": "ipython3",
   "version": "3.6.5"
  },
  "widgets": {
   "application/vnd.jupyter.widget-state+json": {
    "state": {
     "02a2429d4132422490637e8dab25248b": {
      "model_module": "@jupyter-widgets/output",
      "model_module_version": "1.0.0",
      "model_name": "OutputModel",
      "state": {
       "layout": "IPY_MODEL_e5ad36bfbecd4ae8939e35af3331b659",
       "outputs": [
        {
         "data": {
          "text/latex": "Since $p(x|\\lambda)$ is a probability distribution in $x$, it must be normalized:\n$$\\\\$$\n$$\n\\int^{x_{max}}_{x_{min}} p(x|\\lambda) dx = \\frac{1}{Z(\\lambda)}\\int^{x_{max}}_{x_{min}} \\text{exp}\\bigg(-\\frac{x}{\\lambda}\\bigg) dx = 1\\\\\n$$\n$$\\\\$$\n$$\n\\implies Z(\\lambda) = \\int^{x_{max}}_{x_{min}} \\text{exp}\\bigg(-\\frac{x}{\\lambda}\\bigg) dx = \\lambda \\bigg[\\text{exp}\\bigg(-\\frac{x_{min}}{\\lambda}\\bigg) - \\text{exp}\\bigg(-\\frac{x_{max}}{\\lambda}\\bigg) \\bigg]\\\\\n$$\n$$\\\\$$",
          "text/plain": "<IPython.core.display.Latex object>"
         },
         "metadata": {},
         "output_type": "display_data"
        }
       ]
      }
     },
     "02afc223e3d049a388e5c1021644e393": {
      "model_module": "@jupyter-widgets/output",
      "model_module_version": "1.0.0",
      "model_name": "OutputModel",
      "state": {
       "layout": "IPY_MODEL_27c658e55d00485b9eb9085655e927c4",
       "outputs": [
        {
         "data": {
          "text/latex": "Since $p(x|\\lambda)$ is a probability distribution in $x$, it must be normalized:\n\n\\begin{align}\n\\int^\\infty_0 p(x|\\lambda) dx &= \\frac{1}{Z(\\lambda)}\\int^\\infty_0 \\text{exp}\\bigg(-\\frac{x}{\\lambda}\\bigg) dx = 1\\\\\n~\\\\\n\\implies Z(\\lambda) &= \\int^\\infty_0 \\text{exp}\\bigg(-\\frac{x}{\\lambda}\\bigg) dx = \\lambda\\\\\n\\end{align}\n",
          "text/plain": "<IPython.core.display.Latex object>"
         },
         "metadata": {},
         "output_type": "display_data"
        }
       ]
      }
     },
     "06122dc121194c89a4149a6ad9b2faa5": {
      "model_module": "@jupyter-widgets/base",
      "model_module_version": "1.0.0",
      "model_name": "LayoutModel",
      "state": {}
     },
     "082efebfa05848f7b454624cdd0924ce": {
      "model_module": "@jupyter-widgets/output",
      "model_module_version": "1.0.0",
      "model_name": "OutputModel",
      "state": {
       "layout": "IPY_MODEL_735c23d8472043c1a386193b5d7e0c94",
       "outputs": [
        {
         "ename": "NameError",
         "evalue": "name 'file' is not defined",
         "output_type": "error",
         "traceback": [
          "\u001b[0;31m---------------------------------------------------------------------------\u001b[0m",
          "\u001b[0;31mNameError\u001b[0m                                 Traceback (most recent call last)",
          "\u001b[0;32m<ipython-input-4-f82797e70253>\u001b[0m in \u001b[0;36m<module>\u001b[0;34m()\u001b[0m\n\u001b[1;32m      2\u001b[0m \u001b[0mout\u001b[0m \u001b[0;34m=\u001b[0m \u001b[0mwidgets\u001b[0m\u001b[0;34m.\u001b[0m\u001b[0mOutput\u001b[0m\u001b[0;34m(\u001b[0m\u001b[0;34m)\u001b[0m\u001b[0;34m\u001b[0m\u001b[0m\n\u001b[1;32m      3\u001b[0m \u001b[0;32mwith\u001b[0m \u001b[0mout\u001b[0m\u001b[0;34m:\u001b[0m\u001b[0;34m\u001b[0m\u001b[0m\n\u001b[0;32m----> 4\u001b[0;31m     \u001b[0;32mif\u001b[0m \u001b[0;32mnot\u001b[0m\u001b[0;34m(\u001b[0m\u001b[0mfile\u001b[0m \u001b[0;34m==\u001b[0m \u001b[0;32mNone\u001b[0m\u001b[0;34m)\u001b[0m\u001b[0;34m:\u001b[0m\u001b[0;34m\u001b[0m\u001b[0m\n\u001b[0m\u001b[1;32m      5\u001b[0m         \u001b[0mhandle\u001b[0m \u001b[0;34m=\u001b[0m \u001b[0mopen\u001b[0m\u001b[0;34m(\u001b[0m\u001b[0mfile\u001b[0m\u001b[0;34m,\u001b[0m \u001b[0;34m'r'\u001b[0m\u001b[0;34m)\u001b[0m\u001b[0;34m\u001b[0m\u001b[0m\n\u001b[1;32m      6\u001b[0m         \u001b[0mdisplay\u001b[0m\u001b[0;34m(\u001b[0m\u001b[0mLatex\u001b[0m\u001b[0;34m(\u001b[0m\u001b[0mhandle\u001b[0m\u001b[0;34m.\u001b[0m\u001b[0mread\u001b[0m\u001b[0;34m(\u001b[0m\u001b[0;34m)\u001b[0m\u001b[0;34m)\u001b[0m\u001b[0;34m)\u001b[0m\u001b[0;34m\u001b[0m\u001b[0m\n",
          "\u001b[0;31mNameError\u001b[0m: name 'file' is not defined"
         ]
        }
       ]
      }
     },
     "0901ad434ef24e059e245e79e7b3c875": {
      "model_module": "@jupyter-widgets/base",
      "model_module_version": "1.0.0",
      "model_name": "LayoutModel",
      "state": {}
     },
     "0ac4bbc49a7a45cdb28ffdb1aaa1ea7d": {
      "model_module": "@jupyter-widgets/base",
      "model_module_version": "1.0.0",
      "model_name": "LayoutModel",
      "state": {}
     },
     "0cb35c3e7d7a43ea929e03a3c38315de": {
      "model_module": "@jupyter-widgets/output",
      "model_module_version": "1.0.0",
      "model_name": "OutputModel",
      "state": {
       "layout": "IPY_MODEL_f20874a740494b709d84c672367abe0e",
       "outputs": [
        {
         "data": {
          "text/latex": "$$$$",
          "text/plain": "<IPython.core.display.Math object>"
         },
         "metadata": {},
         "output_type": "display_data"
        }
       ]
      }
     },
     "0e5e7f6adafe4715a4e96eefff6b36ae": {
      "model_module": "@jupyter-widgets/output",
      "model_module_version": "1.0.0",
      "model_name": "OutputModel",
      "state": {
       "layout": "IPY_MODEL_c7018de66c8e40a0871aba322d6199f3",
       "outputs": [
        {
         "data": {
          "text/latex": "Since the decays are all independent from each other, the conditional probabilities of each $x_i$ simplify\n\n$$\np(x_i|\\{x\\}_{i\\neq j}) = p(x_i)\n$$\n\nThen, using Bayes’ rule\n\n\\begin{align}\np(x_1 \\cap x_2 \\cap … x_N) &= p(x_1 | x_2 \\cap x_3 … x_N) p(x_2 \\cap x_3 … x_N)\\\\\n~\\\\\n&= p(x_1)p(x_2 \\cap x_3 … x_N)\\\\\n~\\\\\n&=\\cdots\\\\\n~\\\\\n&= \\prod^N_{n = 1} p(x_n)~~~\\text{by induction}\\\\\n~\\\\\n&= \\frac{1}{\\lambda^N} \\text{exp}\\bigg(\\frac{\\sum^N_{n = 1} x}{\\lambda}\\bigg)\n\\end{align}",
          "text/plain": "<IPython.core.display.Latex object>"
         },
         "metadata": {},
         "output_type": "display_data"
        }
       ]
      }
     },
     "109e3c8e925d417399a2225c5a0583dc": {
      "model_module": "@jupyter-widgets/base",
      "model_module_version": "1.0.0",
      "model_name": "LayoutModel",
      "state": {}
     },
     "12b48824652d44e5bd4c46a8edb45dea": {
      "model_module": "@jupyter-widgets/base",
      "model_module_version": "1.0.0",
      "model_name": "LayoutModel",
      "state": {}
     },
     "1ce9b921e5ec44e5812dd97d89d535f8": {
      "model_module": "@jupyter-widgets/controls",
      "model_module_version": "1.2.0",
      "model_name": "AccordionModel",
      "state": {
       "_titles": {
        "0": "The value of Z"
       },
       "children": [
        "IPY_MODEL_02a2429d4132422490637e8dab25248b"
       ],
       "layout": "IPY_MODEL_4b118631c1af49a0ac40cfe015b7a843",
       "selected_index": null
      }
     },
     "1d8d143e91c54ded923778511d499529": {
      "model_module": "@jupyter-widgets/controls",
      "model_module_version": "1.2.0",
      "model_name": "AccordionModel",
      "state": {
       "_titles": {
        "0": "The value of Z"
       },
       "children": [
        "IPY_MODEL_21257b55d12b40d598f477fbb1bec343"
       ],
       "layout": "IPY_MODEL_266169d378ed44bebf4cf9c7c6c4c074",
       "selected_index": null
      }
     },
     "1eca8b385f0746e9ab9083f07e1b18b5": {
      "model_module": "@jupyter-widgets/base",
      "model_module_version": "1.0.0",
      "model_name": "LayoutModel",
      "state": {}
     },
     "21257b55d12b40d598f477fbb1bec343": {
      "model_module": "@jupyter-widgets/output",
      "model_module_version": "1.0.0",
      "model_name": "OutputModel",
      "state": {
       "layout": "IPY_MODEL_fb3c80950bc2498bababb7bb5427a805",
       "outputs": [
        {
         "data": {
          "text/latex": "Since $p(x|\\lambda)$ is a probability distribution in $x$, it must be normalized:\n\n\\begin{align}\n\\int^\\infty_0 p(x|\\lambda) dx &= \\frac{1}{Z(\\lambda)}\\int^\\infty_0 \\text{exp}\\bigg(-\\frac{x}{\\lambda}\\bigg) dx = 1\\\\\n~\\\\\n\\implies Z(\\lambda) &= \\int^\\infty_0 \\text{exp}\\bigg(-\\frac{x}{\\lambda}\\bigg) dx = \\lambda\\\\\n\\end{align}\n",
          "text/plain": "<IPython.core.display.Latex object>"
         },
         "metadata": {},
         "output_type": "display_data"
        }
       ]
      }
     },
     "233e36c8b12d4be0ac458239def0ce07": {
      "model_module": "@jupyter-widgets/base",
      "model_module_version": "1.0.0",
      "model_name": "LayoutModel",
      "state": {}
     },
     "24a8f31ebbf34ebf963eeaced5b73235": {
      "model_module": "@jupyter-widgets/base",
      "model_module_version": "1.0.0",
      "model_name": "LayoutModel",
      "state": {}
     },
     "266169d378ed44bebf4cf9c7c6c4c074": {
      "model_module": "@jupyter-widgets/base",
      "model_module_version": "1.0.0",
      "model_name": "LayoutModel",
      "state": {}
     },
     "27c658e55d00485b9eb9085655e927c4": {
      "model_module": "@jupyter-widgets/base",
      "model_module_version": "1.0.0",
      "model_name": "LayoutModel",
      "state": {}
     },
     "37732983e6fa445cb0d111ba79a65a68": {
      "model_module": "@jupyter-widgets/controls",
      "model_module_version": "1.2.0",
      "model_name": "AccordionModel",
      "state": {
       "_titles": {
        "0": "The value of Z"
       },
       "children": [
        "IPY_MODEL_a3341d973c5d40d5a1279acd81236604"
       ],
       "layout": "IPY_MODEL_b5d5f8bf51434599b5fe58ad63821145",
       "selected_index": null
      }
     },
     "3c97a668ee5745d3be6070de57fd4680": {
      "model_module": "@jupyter-widgets/controls",
      "model_module_version": "1.2.0",
      "model_name": "AccordionModel",
      "state": {
       "_titles": {
        "0": "An informal proof of Bayes' rule"
       },
       "children": [
        "IPY_MODEL_53a7efd2ac0a4e5e8a2983eb8ce1266e"
       ],
       "layout": "IPY_MODEL_ec6d36284ae5471e82aa6ca4983eac18",
       "selected_index": null
      }
     },
     "4338fe0dac00440da12a7a285d37db76": {
      "model_module": "@jupyter-widgets/controls",
      "model_module_version": "1.2.0",
      "model_name": "AccordionModel",
      "state": {
       "_titles": {
        "0": "The value of Z"
       },
       "children": [
        "IPY_MODEL_54e50e3c9e82494d9af0c3a16d2b8468"
       ],
       "layout": "IPY_MODEL_0ac4bbc49a7a45cdb28ffdb1aaa1ea7d",
       "selected_index": null
      }
     },
     "48f023f3422a440880490d524ccef7ef": {
      "model_module": "@jupyter-widgets/base",
      "model_module_version": "1.0.0",
      "model_name": "LayoutModel",
      "state": {}
     },
     "49440362558041fbb3142a96b7c54f40": {
      "model_module": "@jupyter-widgets/controls",
      "model_module_version": "1.2.0",
      "model_name": "AccordionModel",
      "state": {
       "_titles": {
        "0": "The value of Z"
       },
       "children": [
        "IPY_MODEL_611b0203a14144a682f44881271d4f61"
       ],
       "layout": "IPY_MODEL_0901ad434ef24e059e245e79e7b3c875",
       "selected_index": null
      }
     },
     "4b118631c1af49a0ac40cfe015b7a843": {
      "model_module": "@jupyter-widgets/base",
      "model_module_version": "1.0.0",
      "model_name": "LayoutModel",
      "state": {}
     },
     "4da9bef8da794909ae3b1ff8181d8681": {
      "model_module": "@jupyter-widgets/base",
      "model_module_version": "1.0.0",
      "model_name": "LayoutModel",
      "state": {}
     },
     "5024b8cac6fe4073824ec9483f10d830": {
      "model_module": "@jupyter-widgets/controls",
      "model_module_version": "1.2.0",
      "model_name": "AccordionModel",
      "state": {
       "_titles": {
        "0": "Likelihood in more detail"
       },
       "children": [
        "IPY_MODEL_f664fe2028e8455194d14b63a0e900a2"
       ],
       "layout": "IPY_MODEL_24a8f31ebbf34ebf963eeaced5b73235",
       "selected_index": null
      }
     },
     "53a7efd2ac0a4e5e8a2983eb8ce1266e": {
      "model_module": "@jupyter-widgets/output",
      "model_module_version": "1.0.0",
      "model_name": "OutputModel",
      "state": {
       "layout": "IPY_MODEL_d67706ec43bf4b4ba5077deca4f6e137",
       "outputs": [
        {
         "data": {
          "text/latex": "We want to show that for two events A and B\n\n\\begin{align}\np(A|B)p(B) = p(A \\cap B) = p(B|A)P(A).\n\\end{align}\n\nIf we showed the above, then Bayes’ rule comes out instantly:\n\n\\begin{align}\np(A|B) = \\frac{p(A|B)P(B)}{p(A)}.\n\\end{align}\n\nThus we would like to provide some justification as to why $p(A|B)p(B) = p(A \\cap B)$ holds. The conditional probability $p(A|B)$ denotes “the probability of A occurring given B has occurred”, or equivalently “the fraction of outcomes for which A is true, out of all possible outcomes for which B is true”. Let $n_{ab} \\in \\{n_{00}, n_{01}, n_{10}, n_{11}\\}$ denote the number of (equiprobable) outcomes for which A is true/false and B is true/false depending on the indices: e.g. $n_{01}$ denotes the number of outcomes for which A is false and B is true. Then defining $N = n_{00} + n_{01} + n_{10} + n_{11}$\n\n\\begin{align}\np(A|B) = \\frac{n_{11}}{n_{01} + n_{11}} = \\frac{\\frac{n_{11}}{N}}{\\frac{n_{01} + n_{11}}{N}} = \\frac{p(A \\cap B)}{p(B)}\n\\end{align}\n\nthrough which we obtain the required result from which Bayes’ rule follows. This can readily be extended to situations where more than two events are considered by including more indices.",
          "text/plain": "<IPython.core.display.Latex object>"
         },
         "metadata": {},
         "output_type": "display_data"
        }
       ]
      }
     },
     "5497c3730f364695b1323c57ca63ee0f": {
      "model_module": "@jupyter-widgets/controls",
      "model_module_version": "1.2.0",
      "model_name": "AccordionModel",
      "state": {
       "_titles": {
        "0": "An informal proof of Bayes' rule"
       },
       "children": [
        "IPY_MODEL_876d75f896f6493c85c6d8efce9b0756"
       ],
       "layout": "IPY_MODEL_06122dc121194c89a4149a6ad9b2faa5",
       "selected_index": null
      }
     },
     "54e50e3c9e82494d9af0c3a16d2b8468": {
      "model_module": "@jupyter-widgets/output",
      "model_module_version": "1.0.0",
      "model_name": "OutputModel",
      "state": {
       "layout": "IPY_MODEL_e7b32aba550c4f6b8bf949720bdb5bc1",
       "outputs": [
        {
         "data": {
          "text/latex": "Since $p(x|\\lambda)$ is a probability distribution in $x$, it must be normalized:\n$$\\\\$$\n$$\n\\int^{x_{max}}_{x_{min}} p(x|\\lambda) dx = \\frac{1}{Z(\\lambda)}\\int^{x_{max}}_{x_{min}} \\text{exp}\\bigg(-\\frac{x}{\\lambda}\\bigg) dx = 1\\\\\n$$\n$$\\\\$$\n$$\n\\implies Z(\\lambda) = \\int^{x_{max}}_{x_{min}} \\text{exp}\\bigg(-\\frac{x}{\\lambda}\\bigg) dx = \\lambda \\bigg[\\text{exp}\\bigg(-\\frac{x_{min}}{\\lambda}\\bigg) - \\text{exp}\\bigg(-\\frac{x_{max}}{\\lambda}\\bigg) \\bigg]\\\\\n$$\n$$\\\\$$",
          "text/plain": "<IPython.core.display.Latex object>"
         },
         "metadata": {},
         "output_type": "display_data"
        }
       ]
      }
     },
     "5a5750fd0ab14fc9b994d57e93b04f04": {
      "model_module": "@jupyter-widgets/base",
      "model_module_version": "1.0.0",
      "model_name": "LayoutModel",
      "state": {}
     },
     "6094c3712c2340baaeb62eec469e3b01": {
      "model_module": "@jupyter-widgets/base",
      "model_module_version": "1.0.0",
      "model_name": "LayoutModel",
      "state": {}
     },
     "611b0203a14144a682f44881271d4f61": {
      "model_module": "@jupyter-widgets/output",
      "model_module_version": "1.0.0",
      "model_name": "OutputModel",
      "state": {
       "layout": "IPY_MODEL_c1f6915f2bf64949a8265a2d09080ef7",
       "outputs": [
        {
         "data": {
          "text/latex": "Since $p(x|\\lambda)$ is a probability distribution in $x$, it must be normalized:\n\n\\begin{align}\n\\int^\\infty_0 p(x|\\lambda) dx &= \\frac{1}{Z(\\lambda)}\\int^\\infty_0 \\text{exp}\\bigg(-\\frac{x}{\\lambda}\\bigg) dx = 1\\\\\n~\\\\\n\\implies Z(\\lambda) &= \\int^\\infty_0 \\text{exp}\\bigg(-\\frac{x}{\\lambda}\\bigg) dx = \\lambda\\\\\n\\end{align}\n",
          "text/plain": "<IPython.core.display.Latex object>"
         },
         "metadata": {},
         "output_type": "display_data"
        }
       ]
      }
     },
     "64cd379ec2764f608e58dc6571f835d4": {
      "model_module": "@jupyter-widgets/base",
      "model_module_version": "1.0.0",
      "model_name": "LayoutModel",
      "state": {}
     },
     "654bbc783feb4b5d80089eaea0f5c678": {
      "model_module": "@jupyter-widgets/controls",
      "model_module_version": "1.2.0",
      "model_name": "AccordionModel",
      "state": {
       "_titles": {
        "0": "An informal proof of Bayes' rule"
       },
       "children": [
        "IPY_MODEL_7b3c6636b1b5420a8eadbf9471160c08"
       ],
       "layout": "IPY_MODEL_64cd379ec2764f608e58dc6571f835d4",
       "selected_index": null
      }
     },
     "6d81b3553bbc43f08c78a91f5ca6d075": {
      "model_module": "@jupyter-widgets/base",
      "model_module_version": "1.0.0",
      "model_name": "LayoutModel",
      "state": {}
     },
     "70b5486d233c45ac9797c6be419b9d96": {
      "model_module": "@jupyter-widgets/output",
      "model_module_version": "1.0.0",
      "model_name": "OutputModel",
      "state": {
       "layout": "IPY_MODEL_ab3ae54e61674b45940d05ce32bc1426",
       "outputs": [
        {
         "data": {
          "text/latex": "Since the decays are all independent from each other, the conditional probabilities of each $x_i$ simplify\n\n$$\np(x_i|\\{x\\}_{i\\neq j}) = p(x_i)\n$$\n\nThen, using Bayes’ rule\n\n\\begin{align}\np(x_1 \\cap x_2 \\cap … x_N) &= p(x_1 | x_2 \\cap x_3 … x_N) p(x_2 \\cap x_3 … x_N)\\\\\n~\\\\\n&= p(x_1)p(x_2 \\cap x_3 … x_N)\\\\\n~\\\\\n&=\\cdots\\\\\n~\\\\\n&= \\prod^N_{n = 1} p(x_n)~~~\\text{by induction}\\\\\n~\\\\\n&= \\frac{1}{\\lambda^N} \\text{exp}\\bigg(\\frac{\\sum^N_{n = 1} x}{\\lambda}\\bigg)\n\\end{align}",
          "text/plain": "<IPython.core.display.Latex object>"
         },
         "metadata": {},
         "output_type": "display_data"
        }
       ]
      }
     },
     "735c23d8472043c1a386193b5d7e0c94": {
      "model_module": "@jupyter-widgets/base",
      "model_module_version": "1.0.0",
      "model_name": "LayoutModel",
      "state": {}
     },
     "7981bdf518ea4c3992a8bb647b221ec9": {
      "model_module": "@jupyter-widgets/base",
      "model_module_version": "1.0.0",
      "model_name": "LayoutModel",
      "state": {}
     },
     "7b3c6636b1b5420a8eadbf9471160c08": {
      "model_module": "@jupyter-widgets/output",
      "model_module_version": "1.0.0",
      "model_name": "OutputModel",
      "state": {
       "layout": "IPY_MODEL_a8c810e4ee4f48acb8638818f2f852ae",
       "outputs": [
        {
         "data": {
          "text/latex": "We want to show that for two events A and B\n\n$$\\\\$$\n$$\np(A|B)p(B) = p(A, B) = p(B|A)P(A).\\\\\n$$\n$$\\\\$$\n\nIf we showed the above, then Bayes’ rule comes out instantly:\n\n$$\\\\$$\n$$\np(A|B) = \\frac{p(A|B)P(B)}{p(A)}.\\\\\n$$\n$$\\\\$$\n\nThus we would like to provide some justification as to why $p(A|B)p(B) = p(A, B)$ holds. The conditional probability $p(A|B)$ denotes “the probability of A occurring given B has occurred”, or equivalently “the fraction of outcomes for which A is true, out of all possible outcomes for which B is true”. Let $n_{ab} \\in \\{n_{00}, n_{01}, n_{10}, n_{11}\\}$ denote the number of (equiprobable) outcomes for which A is true/false and B is true/false depending on the indices: e.g. $n_{01}$ denotes the number of outcomes for which A is false and B is true. Then defining $N = n_{00} + n_{01} + n_{10} + n_{11}$\n\n$$\\\\$$\n$$\np(A|B) = \\frac{n_{11}}{n_{01} + n_{11}} = \\frac{\\frac{n_{11}}{N}}{\\frac{n_{01} + n_{11}}{N}} = \\frac{p(A, B)}{p(B)}\\\\\n$$\n$$\\\\$$\n\nthrough which we obtain the required result from which Bayes’ rule follows. This can readily be extended to situations where more than two events are considered by including more indices.",
          "text/plain": "<IPython.core.display.Latex object>"
         },
         "metadata": {},
         "output_type": "display_data"
        }
       ]
      }
     },
     "876d75f896f6493c85c6d8efce9b0756": {
      "model_module": "@jupyter-widgets/output",
      "model_module_version": "1.0.0",
      "model_name": "OutputModel",
      "state": {
       "layout": "IPY_MODEL_7981bdf518ea4c3992a8bb647b221ec9",
       "outputs": [
        {
         "data": {
          "text/latex": "We want to show that for two events A and B\n\n$$\\\\$$\n$$\np(A|B)p(B) = p(A, B) = p(B|A)P(A).\\\\\n$$\n$$\\\\$$\n\nIf we showed the above, then Bayes’ rule comes out instantly:\n\n$$\\\\$$\n$$\np(A|B) = \\frac{p(A|B)P(B)}{p(A)}.\\\\\n$$\n$$\\\\$$\n\nThus we would like to provide some justification as to why $p(A|B)p(B) = p(A, B)$ holds. The conditional probability $p(A|B)$ denotes “the probability of A occurring given B has occurred”, or equivalently “the fraction of outcomes for which A is true, out of all possible outcomes for which B is true”. Let $n_{ab} \\in \\{n_{00}, n_{01}, n_{10}, n_{11}\\}$ denote the number of (equiprobable) outcomes for which A is true/false and B is true/false depending on the indices: e.g. $n_{01}$ denotes the number of outcomes for which A is false and B is true. Then defining $N = n_{00} + n_{01} + n_{10} + n_{11}$\n\n$$\\\\$$\n$$\np(A|B) = \\frac{n_{11}}{n_{01} + n_{11}} = \\frac{\\frac{n_{11}}{N}}{\\frac{n_{01} + n_{11}}{N}} = \\frac{p(A, B)}{p(B)}\\\\\n$$\n$$\\\\$$\n\nthrough which we obtain the required result from which Bayes’ rule follows. This can readily be extended to situations where more than two events are considered by including more indices.",
          "text/plain": "<IPython.core.display.Latex object>"
         },
         "metadata": {},
         "output_type": "display_data"
        }
       ]
      }
     },
     "89583625be524befa28717068cc4b65a": {
      "model_module": "@jupyter-widgets/base",
      "model_module_version": "1.0.0",
      "model_name": "LayoutModel",
      "state": {}
     },
     "8da4249fec554e0e8952482d683421c2": {
      "model_module": "@jupyter-widgets/controls",
      "model_module_version": "1.2.0",
      "model_name": "AccordionModel",
      "state": {
       "_titles": {
        "0": "The value of Z"
       },
       "children": [
        "IPY_MODEL_b40c719b12b6447dbec0a134eec6ddf6"
       ],
       "layout": "IPY_MODEL_c5c7113aa40c4e6ea6472c47b61ecdfc",
       "selected_index": null
      }
     },
     "9fa1d113712849549c1e8eb1aedcb048": {
      "model_module": "@jupyter-widgets/controls",
      "model_module_version": "1.2.0",
      "model_name": "AccordionModel",
      "state": {
       "children": [
        "IPY_MODEL_d8249534d98e40ff937246668f8904f2"
       ],
       "layout": "IPY_MODEL_109e3c8e925d417399a2225c5a0583dc"
      }
     },
     "a3341d973c5d40d5a1279acd81236604": {
      "model_module": "@jupyter-widgets/output",
      "model_module_version": "1.0.0",
      "model_name": "OutputModel",
      "state": {
       "layout": "IPY_MODEL_89583625be524befa28717068cc4b65a",
       "outputs": [
        {
         "data": {
          "text/latex": "Since $p(x|\\lambda)$ is a probability distribution in $x$, it must be normalized:\n\n\\begin{align}\n\\int^\\infty_0 p(x|\\lambda) dx &= \\frac{1}{Z(\\lambda)}\\int^\\infty_0 \\text{exp}\\bigg(-\\frac{x}{\\lambda}\\bigg) dx = 1\\\\\n~\\\\\n\\implies Z(\\lambda) &= \\int^\\infty_0 \\text{exp}\\bigg(-\\frac{x}{\\lambda}\\bigg) dx = \\lambda\\\\\n\\end{align}\n",
          "text/plain": "<IPython.core.display.Latex object>"
         },
         "metadata": {},
         "output_type": "display_data"
        }
       ]
      }
     },
     "a3929f58913e4d12bb5b585b72bac4ea": {
      "model_module": "@jupyter-widgets/controls",
      "model_module_version": "1.2.0",
      "model_name": "AccordionModel",
      "state": {
       "_titles": {
        "0": "The value of Z"
       },
       "children": [
        "IPY_MODEL_0cb35c3e7d7a43ea929e03a3c38315de"
       ],
       "layout": "IPY_MODEL_48f023f3422a440880490d524ccef7ef",
       "selected_index": null
      }
     },
     "a8c810e4ee4f48acb8638818f2f852ae": {
      "model_module": "@jupyter-widgets/base",
      "model_module_version": "1.0.0",
      "model_name": "LayoutModel",
      "state": {}
     },
     "aa71db7f45e64fc389d7aab677d0c747": {
      "model_module": "@jupyter-widgets/controls",
      "model_module_version": "1.2.0",
      "model_name": "AccordionModel",
      "state": {
       "_titles": {
        "0": "An informal proof of Bayes' rule"
       },
       "children": [
        "IPY_MODEL_c03d2206e597483c9094681c0ffe5c4b"
       ],
       "layout": "IPY_MODEL_bb2d295a10ef4694baa109a1142346c5",
       "selected_index": null
      }
     },
     "ab3ae54e61674b45940d05ce32bc1426": {
      "model_module": "@jupyter-widgets/base",
      "model_module_version": "1.0.0",
      "model_name": "LayoutModel",
      "state": {}
     },
     "ad595a43cdd148eb9e1539c1c4ee8ee9": {
      "model_module": "@jupyter-widgets/controls",
      "model_module_version": "1.2.0",
      "model_name": "AccordionModel",
      "state": {
       "_titles": {
        "0": "The value of Z"
       },
       "children": [
        "IPY_MODEL_02afc223e3d049a388e5c1021644e393"
       ],
       "layout": "IPY_MODEL_b2ac5641b30f40be875b1087ce4bf1f6"
      }
     },
     "b2ac5641b30f40be875b1087ce4bf1f6": {
      "model_module": "@jupyter-widgets/base",
      "model_module_version": "1.0.0",
      "model_name": "LayoutModel",
      "state": {}
     },
     "b40c719b12b6447dbec0a134eec6ddf6": {
      "model_module": "@jupyter-widgets/output",
      "model_module_version": "1.0.0",
      "model_name": "OutputModel",
      "state": {
       "layout": "IPY_MODEL_6d81b3553bbc43f08c78a91f5ca6d075",
       "outputs": [
        {
         "data": {
          "text/latex": "Since $p(x|\\lambda)$ is a probability distribution in $x$, it must be normalized:\n\n\\begin{align}\n\\int^\\infty_0 p(x|\\lambda) dx &= \\frac{1}{Z(\\lambda)}\\int^\\infty_0 \\text{exp}\\bigg(-\\frac{x}{\\lambda}\\bigg) dx = 1\\\\\n~\\\\\n\\implies Z(\\lambda) &= \\int^\\infty_0 \\text{exp}\\bigg(-\\frac{x}{\\lambda}\\bigg) dx = \\lambda\\\\\n\\end{align}\n",
          "text/plain": "<IPython.core.display.Latex object>"
         },
         "metadata": {},
         "output_type": "display_data"
        }
       ]
      }
     },
     "b5d5f8bf51434599b5fe58ad63821145": {
      "model_module": "@jupyter-widgets/base",
      "model_module_version": "1.0.0",
      "model_name": "LayoutModel",
      "state": {}
     },
     "b92d600645c14d328c20a85c99605c94": {
      "model_module": "@jupyter-widgets/controls",
      "model_module_version": "1.2.0",
      "model_name": "AccordionModel",
      "state": {
       "_titles": {
        "0": "Likelihood in more detail"
       },
       "children": [
        "IPY_MODEL_70b5486d233c45ac9797c6be419b9d96"
       ],
       "layout": "IPY_MODEL_c00810ca721c4cd38db02051cf24d9d1"
      }
     },
     "bb2d295a10ef4694baa109a1142346c5": {
      "model_module": "@jupyter-widgets/base",
      "model_module_version": "1.0.0",
      "model_name": "LayoutModel",
      "state": {}
     },
     "c00810ca721c4cd38db02051cf24d9d1": {
      "model_module": "@jupyter-widgets/base",
      "model_module_version": "1.0.0",
      "model_name": "LayoutModel",
      "state": {}
     },
     "c03d2206e597483c9094681c0ffe5c4b": {
      "model_module": "@jupyter-widgets/output",
      "model_module_version": "1.0.0",
      "model_name": "OutputModel",
      "state": {
       "layout": "IPY_MODEL_233e36c8b12d4be0ac458239def0ce07",
       "outputs": [
        {
         "data": {
          "text/latex": "We want to show that for two events A and B\n\n\\begin{align}\np(A|B)p(B) = p(A \\cap B) = p(B|A)P(A).\n\\end{align}\n\nIf we showed the above, then Bayes’ rule comes out instantly:\n\n\\begin{align}\np(A|B) = \\frac{p(A|B)P(B)}{p(A)}.\n\\end{align}\n\nThus we would like to provide some justification as to why $p(A|B)p(B) = p(A \\cap B)$ holds. The conditional probability $p(A|B)$ denotes “the probability of A occurring given B has occurred”, or equivalently “the fraction of outcomes for which A is true, out of all possible outcomes for which B is true”. Let $n_{ab} \\in \\{n_{00}, n_{01}, n_{10}, n_{11}\\}$ denote the number of (equiprobable) outcomes for which A is true/false and B is true/false depending on the indices: e.g. $n_{01}$ denotes the number of outcomes for which A is false and B is true. Then defining $N = n_{00} + n_{01} + n_{10} + n_{11}$\n\n\\begin{align}\np(A|B) = \\frac{n_{11}}{n_{01} + n_{11}} = \\frac{\\frac{n_{11}}{N}}{\\frac{n_{01} + n_{11}}{N}} = \\frac{p(A \\cap B)}{p(B)}\n\\end{align}\n\nthrough which we obtain the required result from which Bayes’ rule follows. This can readily be extended to situations where more than two events are considered by including more indices.",
          "text/plain": "<IPython.core.display.Latex object>"
         },
         "metadata": {},
         "output_type": "display_data"
        }
       ]
      }
     },
     "c1f6915f2bf64949a8265a2d09080ef7": {
      "model_module": "@jupyter-widgets/base",
      "model_module_version": "1.0.0",
      "model_name": "LayoutModel",
      "state": {}
     },
     "c4002b4c197c4ae4962377c979daf18a": {
      "model_module": "@jupyter-widgets/controls",
      "model_module_version": "1.2.0",
      "model_name": "AccordionModel",
      "state": {
       "children": [
        "IPY_MODEL_e39821cd7d624bbbb0fa970e6d1efcd1"
       ],
       "layout": "IPY_MODEL_12b48824652d44e5bd4c46a8edb45dea"
      }
     },
     "c5c7113aa40c4e6ea6472c47b61ecdfc": {
      "model_module": "@jupyter-widgets/base",
      "model_module_version": "1.0.0",
      "model_name": "LayoutModel",
      "state": {}
     },
     "c68c635c59b24f5dab19dd6bf7e84ce0": {
      "model_module": "@jupyter-widgets/output",
      "model_module_version": "1.0.0",
      "model_name": "OutputModel",
      "state": {
       "layout": "IPY_MODEL_f5bb0efbfdd940428a19529f58ce1544",
       "outputs": [
        {
         "data": {
          "text/latex": "Since the decays are all independent from each other, the conditional probabilities of each $x_i$ simplify\n\n$$\np(x_i|\\{x\\}_{i\\neq j}) = p(x_i)\n$$\n\nThen, using Bayes’ rule\n\n\\begin{align}\np(x_1 \\cap x_2 \\cap … x_N) &= p(x_1 | x_2 \\cap x_3 … x_N) p(x_2 \\cap x_3 … x_N)\\\\\n~\\\\\n&= p(x_1)p(x_2 \\cap x_3 … x_N)\\\\\n~\\\\\n&=\\cdots\\\\\n~\\\\\n&= \\prod^N_{n = 1} p(x_n)~~~\\text{by induction}\\\\\n~\\\\\n&= \\frac{1}{\\lambda^N} \\text{exp}\\bigg(\\frac{\\sum^N_{n = 1} x}{\\lambda}\\bigg)\n\\end{align}",
          "text/plain": "<IPython.core.display.Latex object>"
         },
         "metadata": {},
         "output_type": "display_data"
        }
       ]
      }
     },
     "c7018de66c8e40a0871aba322d6199f3": {
      "model_module": "@jupyter-widgets/base",
      "model_module_version": "1.0.0",
      "model_name": "LayoutModel",
      "state": {}
     },
     "d67706ec43bf4b4ba5077deca4f6e137": {
      "model_module": "@jupyter-widgets/base",
      "model_module_version": "1.0.0",
      "model_name": "LayoutModel",
      "state": {}
     },
     "d8249534d98e40ff937246668f8904f2": {
      "model_module": "@jupyter-widgets/output",
      "model_module_version": "1.0.0",
      "model_name": "OutputModel",
      "state": {
       "layout": "IPY_MODEL_4da9bef8da794909ae3b1ff8181d8681",
       "outputs": [
        {
         "ename": "NameError",
         "evalue": "name 'file' is not defined",
         "output_type": "error",
         "traceback": [
          "\u001b[0;31m---------------------------------------------------------------------------\u001b[0m",
          "\u001b[0;31mNameError\u001b[0m                                 Traceback (most recent call last)",
          "\u001b[0;32m<ipython-input-2-f82797e70253>\u001b[0m in \u001b[0;36m<module>\u001b[0;34m()\u001b[0m\n\u001b[1;32m      2\u001b[0m \u001b[0mout\u001b[0m \u001b[0;34m=\u001b[0m \u001b[0mwidgets\u001b[0m\u001b[0;34m.\u001b[0m\u001b[0mOutput\u001b[0m\u001b[0;34m(\u001b[0m\u001b[0;34m)\u001b[0m\u001b[0;34m\u001b[0m\u001b[0m\n\u001b[1;32m      3\u001b[0m \u001b[0;32mwith\u001b[0m \u001b[0mout\u001b[0m\u001b[0;34m:\u001b[0m\u001b[0;34m\u001b[0m\u001b[0m\n\u001b[0;32m----> 4\u001b[0;31m     \u001b[0;32mif\u001b[0m \u001b[0;32mnot\u001b[0m\u001b[0;34m(\u001b[0m\u001b[0mfile\u001b[0m \u001b[0;34m==\u001b[0m \u001b[0;32mNone\u001b[0m\u001b[0;34m)\u001b[0m\u001b[0;34m:\u001b[0m\u001b[0;34m\u001b[0m\u001b[0m\n\u001b[0m\u001b[1;32m      5\u001b[0m         \u001b[0mhandle\u001b[0m \u001b[0;34m=\u001b[0m \u001b[0mopen\u001b[0m\u001b[0;34m(\u001b[0m\u001b[0mfile\u001b[0m\u001b[0;34m,\u001b[0m \u001b[0;34m'r'\u001b[0m\u001b[0;34m)\u001b[0m\u001b[0;34m\u001b[0m\u001b[0m\n\u001b[1;32m      6\u001b[0m         \u001b[0mdisplay\u001b[0m\u001b[0;34m(\u001b[0m\u001b[0mLatex\u001b[0m\u001b[0;34m(\u001b[0m\u001b[0mhandle\u001b[0m\u001b[0;34m.\u001b[0m\u001b[0mread\u001b[0m\u001b[0;34m(\u001b[0m\u001b[0;34m)\u001b[0m\u001b[0;34m)\u001b[0m\u001b[0;34m)\u001b[0m\u001b[0;34m\u001b[0m\u001b[0m\n",
          "\u001b[0;31mNameError\u001b[0m: name 'file' is not defined"
         ]
        }
       ]
      }
     },
     "e111500203e14e40b6495cda731ceffa": {
      "model_module": "@jupyter-widgets/base",
      "model_module_version": "1.0.0",
      "model_name": "LayoutModel",
      "state": {}
     },
     "e39821cd7d624bbbb0fa970e6d1efcd1": {
      "model_module": "@jupyter-widgets/output",
      "model_module_version": "1.0.0",
      "model_name": "OutputModel",
      "state": {
       "layout": "IPY_MODEL_6094c3712c2340baaeb62eec469e3b01",
       "outputs": [
        {
         "data": {
          "text/latex": "Since $p(x|\\lambda)$ is a probability distribution in $x$, it must be normalized:\n\n\\begin{align}\n\\int^\\infty_0 p(x|\\lambda) dx &= \\frac{1}{Z(\\lambda)}\\int^\\infty_0 \\text{exp}\\bigg(-\\frac{x}{\\lambda}\\bigg) dx = 1\\\\\n~\\\\\n\\implies Z(\\lambda) &= \\int^\\infty_0 \\text{exp}\\bigg(-\\frac{x}{\\lambda}\\bigg) dx = \\lambda\\\\\n\\end{align}\n",
          "text/plain": "<IPython.core.display.Latex object>"
         },
         "metadata": {},
         "output_type": "display_data"
        }
       ]
      }
     },
     "e39a06e8f9b2449fbbad78c760fd059b": {
      "model_module": "@jupyter-widgets/controls",
      "model_module_version": "1.2.0",
      "model_name": "AccordionModel",
      "state": {
       "_titles": {
        "0": "Likelihood in more detail"
       },
       "children": [
        "IPY_MODEL_c68c635c59b24f5dab19dd6bf7e84ce0"
       ],
       "layout": "IPY_MODEL_e111500203e14e40b6495cda731ceffa",
       "selected_index": null
      }
     },
     "e5ad36bfbecd4ae8939e35af3331b659": {
      "model_module": "@jupyter-widgets/base",
      "model_module_version": "1.0.0",
      "model_name": "LayoutModel",
      "state": {}
     },
     "e783f66ff2434ecc9352665385ca9872": {
      "model_module": "@jupyter-widgets/controls",
      "model_module_version": "1.2.0",
      "model_name": "AccordionModel",
      "state": {
       "_titles": {
        "0": "Likelihood in more detail"
       },
       "children": [
        "IPY_MODEL_0e5e7f6adafe4715a4e96eefff6b36ae"
       ],
       "layout": "IPY_MODEL_5a5750fd0ab14fc9b994d57e93b04f04",
       "selected_index": null
      }
     },
     "e7b32aba550c4f6b8bf949720bdb5bc1": {
      "model_module": "@jupyter-widgets/base",
      "model_module_version": "1.0.0",
      "model_name": "LayoutModel",
      "state": {}
     },
     "e939ab6f33064187844fb5439a456147": {
      "model_module": "@jupyter-widgets/controls",
      "model_module_version": "1.2.0",
      "model_name": "AccordionModel",
      "state": {
       "children": [
        "IPY_MODEL_082efebfa05848f7b454624cdd0924ce"
       ],
       "layout": "IPY_MODEL_f87d7e0397a240b28302f4e0fa23d697"
      }
     },
     "ec6d36284ae5471e82aa6ca4983eac18": {
      "model_module": "@jupyter-widgets/base",
      "model_module_version": "1.0.0",
      "model_name": "LayoutModel",
      "state": {}
     },
     "f20874a740494b709d84c672367abe0e": {
      "model_module": "@jupyter-widgets/base",
      "model_module_version": "1.0.0",
      "model_name": "LayoutModel",
      "state": {}
     },
     "f5bb0efbfdd940428a19529f58ce1544": {
      "model_module": "@jupyter-widgets/base",
      "model_module_version": "1.0.0",
      "model_name": "LayoutModel",
      "state": {}
     },
     "f664fe2028e8455194d14b63a0e900a2": {
      "model_module": "@jupyter-widgets/output",
      "model_module_version": "1.0.0",
      "model_name": "OutputModel",
      "state": {
       "layout": "IPY_MODEL_1eca8b385f0746e9ab9083f07e1b18b5",
       "outputs": [
        {
         "data": {
          "text/latex": "Since the decays are all independent from each other, the conditional probabilities of each \\(x_i\\) simplify\n\n$$\n~\\\\\np(x_i|\\{x\\}_{i\\neq j}) = p(x_i)\\\\\n$$\n\nThen, using Bayes’ rule\n\n$$\n~\\\\\np(x_1, x_2, … x_N) = p(x_1 | x_2, x_3 … x_N) p(x_2, x_3 … x_N)\\\\\n~\\\\\n= p(x_1)p(x_2, x_3 … x_N)\\\\\n~\\\\\n=\\cdots\\\\\n~\\\\\n= \\prod^N_{n = 1} p(x_n)~~~\\text{by induction}\\\\\n~\\\\\n= \\frac{1}{Z(\\lambda)^N} \\text{exp}\\bigg(\\frac{\\sum^N_{n = 1} x_n}{\\lambda}\\bigg)\\\\\n$$",
          "text/plain": "<IPython.core.display.Latex object>"
         },
         "metadata": {},
         "output_type": "display_data"
        }
       ]
      }
     },
     "f87d7e0397a240b28302f4e0fa23d697": {
      "model_module": "@jupyter-widgets/base",
      "model_module_version": "1.0.0",
      "model_name": "LayoutModel",
      "state": {}
     },
     "fb3c80950bc2498bababb7bb5427a805": {
      "model_module": "@jupyter-widgets/base",
      "model_module_version": "1.0.0",
      "model_name": "LayoutModel",
      "state": {}
     }
    },
    "version_major": 2,
    "version_minor": 0
   }
  }
 },
 "nbformat": 4,
 "nbformat_minor": 2
}
