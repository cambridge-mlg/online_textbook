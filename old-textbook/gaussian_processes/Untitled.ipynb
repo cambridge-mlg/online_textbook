{
 "cells": [
  {
   "cell_type": "markdown",
   "metadata": {},
   "source": [
    "# Gaussian Processes\n",
    "\n",
    "Linear in the parameters [regression models](../regression/regression_non_linear.ipynb) of the form\n",
    "\n",
    "$$\n",
    "\\mathbf{y} = \\sum_{i = d}^D \\phi_d(\\mathbf{x}_d) w_d,\n",
    "$$\n",
    "\n",
    "have several issues. First, estimating the weights $w_d$ by maximum-likelihood can easily result in [overfitting](../regression/regression_overfitting.ipynb). Second, a maximum-likelihood approach does not quantify the uncertainty in our model's prediction. A [bayesian approach](../regression/regression_bayesian.ipynb) can remedy overfitting by introducing a prior $P(\\mathbf{w})$ which regularises the weights. This approach also gives us the uncertainty of our model's predictions - which is a consequence of our uncertainty in the model's weights. But there are certain issues with this approach too:\n",
    "\n",
    "\\begin{enumerate}\n",
    "\\item The number of basis functions $D$ is arbitrarily chosen.\n",
    "\\end{enumerate}"
   ]
  },
  {
   "cell_type": "code",
   "execution_count": null,
   "metadata": {},
   "outputs": [],
   "source": []
  }
 ],
 "metadata": {
  "kernelspec": {
   "display_name": "Python 3",
   "language": "python",
   "name": "python3"
  },
  "language_info": {
   "codemirror_mode": {
    "name": "ipython",
    "version": 3
   },
   "file_extension": ".py",
   "mimetype": "text/x-python",
   "name": "python",
   "nbconvert_exporter": "python",
   "pygments_lexer": "ipython3",
   "version": "3.5.0"
  }
 },
 "nbformat": 4,
 "nbformat_minor": 2
}
