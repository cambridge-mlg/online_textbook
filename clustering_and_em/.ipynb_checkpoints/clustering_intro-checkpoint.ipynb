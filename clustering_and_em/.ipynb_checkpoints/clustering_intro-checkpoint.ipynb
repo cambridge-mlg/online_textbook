{
 "cells": [
  {
   "cell_type": "code",
   "execution_count": 3,
   "metadata": {},
   "outputs": [
    {
     "data": {
      "text/html": [
       "<style>.output {\n",
       "    font-family: ariel;\n",
       "    align-items: normal;\n",
       "    text-align: normal;\n",
       "}\n",
       "\n",
       "div.output_svg div { margin : auto; }\n",
       ".div.output_area.MathJax_Display{ text-align: center; }\n",
       "div.text_cell_render { font-family: sans-serif; }\n",
       "\n",
       "details {\n",
       "    margin: 20px 0px;\n",
       "    padding: 0px 10px;\n",
       "    border-radius: 3px;\n",
       "    border-style: solid;\n",
       "    border-color: black;\n",
       "    border-width: 2px;\n",
       "}\n",
       "details div{padding: 20px 30px;}\n",
       "details summary{font-size: 18px;}\n",
       "\n",
       "table {\n",
       "     margin: calc(auto + 10px) !important;\n",
       "     border: solid !important;\n",
       "     text-align:center;\n",
       " }\n",
       "\n",
       " th, td {\n",
       "    text-align: left !important;\n",
       " }\n",
       "\n",
       " .further_box {\n",
       "    background-color:rgb(230, 230, 230);\n",
       "    border-style: solid;\n",
       "    margin: 10px 10px 10px 0px;\n",
       "    padding: 10px;\n",
       "    left:calc(auto - 20px);\n",
       " }\n",
       "\n",
       " .question_box {\n",
       "    background-color:rgb(255, 255, 225);\n",
       "    border-style: solid;\n",
       "    margin: 10px 10px 10px 0px;\n",
       "    padding: 10px;\n",
       "    left:calc(auto - 20px);\n",
       " }</style>\n",
       "     <input type=\"submit\" value='Home' id=\"initiated\" class='home_button' onclick='window.location=\"../index.ipynb\"' style='float: right; margin-right: 40px;'>\n",
       "    <script>\n",
       "    $('.home_button').not('#initiated').remove();\n",
       "    $('.home_button').removeAttr('id');\n",
       "    $(\".home_button\").insertBefore($(\"div.cell\").first());\n",
       "    \n",
       "    $('div.input.init_hidden').hide()\n",
       "    $('div.input.init_shown').show()\n",
       "    $('.toggle_button').each(function( index, element ) {\n",
       "       var prefix;\n",
       "       if (this.classList.contains('init_show')) {\n",
       "           prefix = 'Show '\n",
       "       }\n",
       "       else if (this.classList.contains('init_hide')) {\n",
       "           prefix = 'Hide '\n",
       "       };\n",
       "       $(this).val(prefix + $(this).val().substr($(this).val().indexOf(\" \") + 1))\n",
       "    });\n",
       "    IPython.OutputArea.prototype._should_scroll = function(lines) {\n",
       "        return false;\n",
       "    }\n",
       "    </script>\n",
       "    "
      ],
      "text/plain": [
       "<IPython.core.display.HTML object>"
      ]
     },
     "metadata": {},
     "output_type": "display_data"
    },
    {
     "data": {
      "text/html": [
       "\n",
       "    <script>\n",
       "      function get_new_label(butn, hide) {\n",
       "          var shown = $(butn).parents(\"div.cell.code_cell\").find('div.input').is(':visible');\n",
       "          var title = $(butn).val().substr($(butn).val().indexOf(\" \") + 1)\n",
       "          return ((shown) ? 'Show ' : 'Hide ') + title\n",
       "      }\n",
       "      function code_toggle(butn, hide) {\n",
       "        $(butn).val(get_new_label(butn,hide));\n",
       "        $(hide).slideToggle();\n",
       "      };\n",
       "    </script>\n",
       "    <input type=\"submit\" value='initiated' class='toggle_button'>\n",
       "    <script>\n",
       "        var hide_area = $(\".toggle_button[value='initiated']\").parents('div.cell').prevAll().addBack().slice(-1)\n",
       "        hide_area = $(hide_area).find(\"div.input\").add($(hide_area).filter(\"div.text_cell\"))\n",
       "        $(\".toggle_button[value='initiated']\").prop(\"hide_area\", hide_area)\n",
       "        $(\".toggle_button[value='initiated']\").click(function(){\n",
       "            code_toggle(this, $(this).prop(\"hide_area\"))\n",
       "        }); \n",
       "$(\".toggle_button[value='initiated']\").parents(\"div.output_area\").insertBefore($(\".toggle_button[value='initiated']\").parents(\"div.output\").find('div.output_area').first());\n",
       "    var shown = $(\".toggle_button[value='initiated']\").parents(\"div.cell.code_cell\").find('div.input').is(':visible');\n",
       "    var title = ((shown) ? 'Hide ' : 'Show ') + 'setup code'; \n",
       "     $(\".toggle_button[value='initiated']\").addClass(\"init_show\");\n",
       "            $(hide_area).addClass(\"init_hidden\");  $(\".toggle_button[value='initiated']\").val(title);\n",
       "    </script>"
      ],
      "text/plain": [
       "<IPython.core.display.HTML object>"
      ]
     },
     "metadata": {},
     "output_type": "display_data"
    }
   ],
   "source": [
    "%config InlineBackend.figure_format = 'svg' # change output plot display format to 'svg'\n",
    "\n",
    "# import the required modules for this notebook\n",
    "import numpy\n",
    "import matplotlib.pyplot as plt\n",
    "\n",
    "# import the helper functions from the parent directory,\n",
    "# these help with things like graph plotting and notebook layout\n",
    "import sys\n",
    "sys.path.append('..')\n",
    "from helper_functions import *\n",
    "\n",
    "# set things like fonts etc - comes from helper_functions\n",
    "set_notebook_preferences()\n",
    "\n",
    "# add a show/hide code button - also from helper_functions\n",
    "toggle_code(title = \"setup code\")"
   ]
  },
  {
   "cell_type": "markdown",
   "metadata": {},
   "source": [
    "# Clustering and EM\n",
    "\n",
    "The goal of clustering is to group together data points into clusters such that two points in the same cluster are more \"similar\" to each other than data points in different clusters. More specifically, each $D$ dimensional data point $\\mathbf{x}_n$ should be assigned to one of $K$ clusters, with the assignment denoted by $s_{n}$. Clustering algorithms will explicitly or implicitly define the similarity measure upon which the assignment is based.\n",
    "\n",
    "<img src=\"clustering_example.svg\" alt=\"Snow\" style=\"width:80%; float: center; padding:0px\">\n",
    "\n",
    "Notice that clustering is an *unsupervised learning* task. The tasks we have encountered previously (e.g. in the [regression](/notebooks/notebooks_new/regression/regression_intro.ipynb) and [classification](/notebooks/notebooks_new/classification/classification.ipynb) sections) were *supervised learning* problems in which we were given some input-output example pairs $\\{\\mathbf{x}_n, \\mathbf{y}_n\\}_{n=1}^N$. By contrast, in *unsupervised learning* we are given only the input data $\\{\\mathbf{x}_n\\}_{n=1}^N$ and must extract structure without a teacher providing the target output values. \n",
    "\n",
    "Example clustering problems include:\n",
    "\n",
    "|  Application | Data | Clusters | \n",
    "| :---: | :---: | :---: |\n",
    "| genetic analysis | genetic markers | ancestral groups |\n",
    "| identifying disease subtypes in medicine | patient medical record and personal data  | medical condition subtypes |  \n",
    "| image segmentation | image pixel values | distinct regions of the image | \n",
    "| social network analysis | connections between nodes in the network | communities |\n",
    "\n",
    "In this section we will cover two clustering methods: the [k-means algorithm](/notebooks/clustering_and_em/clustering_k_means.ipynb) (deterministic) and the [EM algorithm for fitting the mixture of Gaussians model](/notebooks/clustering_and_em/clust_mog.ipynb.ipynb) (probabilistic). Both approaches involve learning schemes that employ coordinate ascent of an objective function and they are closely related. \n",
    "\n",
    "In the probabilistic approach the cluster assignment variables $s_n$ are treated as hidden, or latent, variables that must be inferred from the observed variables $\\mathbf{x}_n$. Often observed data are produced by latent variables e.g. our performance in a tennis match depends on our latent skill or an observed speech waveform depends on the latent sentence in the mind of the speaker. The EM algorithm approach provides a general method for performing inference and learning in such models. "
   ]
  },
  {
   "cell_type": "code",
   "execution_count": null,
   "metadata": {},
   "outputs": [],
   "source": []
  }
 ],
 "metadata": {
  "kernelspec": {
   "display_name": "Python 3",
   "language": "python",
   "name": "python3"
  },
  "language_info": {
   "codemirror_mode": {
    "name": "ipython",
    "version": 3
   },
   "file_extension": ".py",
   "mimetype": "text/x-python",
   "name": "python",
   "nbconvert_exporter": "python",
   "pygments_lexer": "ipython3",
   "version": "3.7.2"
  }
 },
 "nbformat": 4,
 "nbformat_minor": 2
}
