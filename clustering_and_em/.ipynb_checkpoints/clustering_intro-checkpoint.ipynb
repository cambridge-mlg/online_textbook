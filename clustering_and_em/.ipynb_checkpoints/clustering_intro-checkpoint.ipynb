{
 "cells": [
  {
   "cell_type": "code",
   "execution_count": 4,
   "metadata": {},
   "outputs": [
    {
     "data": {
      "application/javascript": [
       "IPython.OutputArea.prototype._should_scroll = function(lines) {\n",
       "    return false;\n",
       "}"
      ],
      "text/plain": [
       "<IPython.core.display.Javascript object>"
      ]
     },
     "metadata": {},
     "output_type": "display_data"
    }
   ],
   "source": [
    "%%javascript\n",
    "IPython.OutputArea.prototype._should_scroll = function(lines) {\n",
    "    return false;\n",
    "}"
   ]
  },
  {
   "cell_type": "code",
   "execution_count": 5,
   "metadata": {
    "scrolled": true
   },
   "outputs": [
    {
     "data": {
      "text/html": [
       "\n",
       "    <script>\n",
       "      function get_new_label() {\n",
       "          var shown = $('div.cell.code_cell.rendered.selected div.input').is(':visible')\n",
       "          var title = $('div.cell.code_cell.rendered.selected').find('.toggle_button').val().substring(5)\n",
       "          return ((shown) ? 'Hide ' : 'Show ') + title\n",
       "      }\n",
       "      function code_toggle() {\n",
       "          $('div.cell.code_cell.rendered.selected div.input').toggle();\n",
       "          $('div.cell.code_cell.rendered.selected').find('.toggle_button').val(get_new_label());\n",
       "      };\n",
       "    </script>\n",
       "    <form action=\"javascript:code_toggle()\"><input type=\"submit\" value ='Show import functions'class='toggle_button'></form>\n",
       "    "
      ],
      "text/plain": [
       "<IPython.core.display.HTML object>"
      ]
     },
     "execution_count": 5,
     "metadata": {},
     "output_type": "execute_result"
    }
   ],
   "source": [
    "# The usual notebook preferences\n",
    "\n",
    "%config InlineBackend.figure_format = 'svg'\n",
    "\n",
    "import numpy\n",
    "import sys\n",
    "import matplotlib.pyplot as plt\n",
    "\n",
    "sys.path.append('..')\n",
    "from helper_functions import *\n",
    "\n",
    "HTML(toggle_code(\"import functions\"))"
   ]
  },
  {
   "cell_type": "code",
   "execution_count": 6,
   "metadata": {
    "scrolled": true
   },
   "outputs": [
    {
     "data": {
      "text/html": [
       "\n",
       "    <style>\n",
       "    .output {\n",
       "        font-family: \"Sans\", serif;\n",
       "        align-items: normal;\n",
       "        text-align: normal;\n",
       "    }\n",
       "    \n",
       "    div.output_svg div { margin : auto; }\n",
       "\n",
       "    .div.output_area.MathJax_Display{ text-align: center; }\n",
       "\n",
       "    div.text_cell_render { font-family: \"Georgia\", serif; }\n",
       "    \n",
       "    details {\n",
       "        margin: 20px 0px;\n",
       "        padding: 0px 10px;\n",
       "        border-radius: 3px;\n",
       "        border-style: solid;\n",
       "        border-color: black;\n",
       "        border-width: 2px;\n",
       "    }\n",
       "\n",
       "    details div{padding: 20px 30px;}\n",
       "\n",
       "    details summary{font-size: 18px;}\n",
       "    \n",
       "    table { margin: auto !important; }\n",
       "    \n",
       "    </style>\n",
       "    <script>\n",
       "    $('iframe').parents('div.cell.code_cell').find('div.input').hide()\n",
       "    $('.toggle_button').parents('div.cell.code_cell').find('div.input').hide()\n",
       "    $('.toggle_button').each(function( index, element ) {\n",
       "       $(this).val('Show ' + $(this).val().substring(5))\n",
       "    });\n",
       "    </script>\n",
       "    "
      ],
      "text/plain": [
       "<IPython.core.display.HTML object>"
      ]
     },
     "metadata": {},
     "output_type": "display_data"
    }
   ],
   "source": [
    "set_notebook_preferences()"
   ]
  },
  {
   "cell_type": "markdown",
   "metadata": {},
   "source": [
    "# 5. Clustering and EM\n",
    "\n",
    "The tasks we have encountered so far, like those in the __[regression](/notebooks/notebooks_new/regression/regression_intro.ipynb)__ and __[classification](/notebooks/notebooks_new/classification/classification.ipynb)__ sections have been *supervised learning* problems. In supervised learning we are given some input-output example pairs $\\{\\mathbf{x}_n, \\mathbf{y}_n\\}$ to which we fit a model to make predictions. By contrast, in *unsupervised learning* we are given only the input data $\\{\\mathbf{x}_n\\}$ with the goal of inferring some useful information from it. This definition is very loose and consequently the spectrum of possible inference methods is extremely broad. Consider for example the task of taking the examples $\\{\\mathbf{x}_n\\}$ and grouping them in clusters like the image below:\n",
    "\n",
    "<img src=\"clustering_example.svg\" alt=\"Snow\" style=\"width:80%; float: center; padding:0px\">\n",
    "\n",
    "In this section we will cover two clustering methods: the k-means algorithm (deterministic) and the mixture of gaussians model (probabilistic). Both involve a learning phase during which model parameters are optimised, but unfortunately there is no single-step closed form solution to either optimisation problem, which must be solved approximately. For this optimisation we will use the *Expectation Maximisation* or EM algorithm, which is applicable to many other approximate inference problems."
   ]
  }
 ],
 "metadata": {
  "kernelspec": {
   "display_name": "Python 3",
   "language": "python",
   "name": "python3"
  },
  "language_info": {
   "codemirror_mode": {
    "name": "ipython",
    "version": 3
   },
   "file_extension": ".py",
   "mimetype": "text/x-python",
   "name": "python",
   "nbconvert_exporter": "python",
   "pygments_lexer": "ipython3",
   "version": "3.6.5"
  }
 },
 "nbformat": 4,
 "nbformat_minor": 2
}
